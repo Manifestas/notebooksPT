{
 "cells": [
  {
   "cell_type": "code",
   "execution_count": 23,
   "id": "d75fe827",
   "metadata": {},
   "outputs": [],
   "source": [
    "import os\n",
    "import pandas as pd\n",
    "import re\n",
    "import datetime"
   ]
  },
  {
   "cell_type": "code",
   "execution_count": 12,
   "id": "0f919a1a",
   "metadata": {},
   "outputs": [
    {
     "data": {
      "text/plain": [
       "['5047104371_5047104371_01012024_182517412.xlsx',\n",
       " '5047104371_5047104371_02012024_144224536.xlsx',\n",
       " '5047104371_5047104371_03012024_135314193.xlsx',\n",
       " '5047104371_5047104371_04012024_165517962.xlsx',\n",
       " '5047104371_5047104371_05012024_171029484.xlsx',\n",
       " '5047104371_5047104371_06012024_173324148.xlsx',\n",
       " '5047104371_5047104371_08012024_004955534.xlsx',\n",
       " '5047104371_5047104371_08012024_174125245.xlsx',\n",
       " '5047104371_5047104371_09012024_141523849.xlsx',\n",
       " '5047104371_5047104371_10012024_173249160.xlsx']"
      ]
     },
     "execution_count": 12,
     "metadata": {},
     "output_type": "execute_result"
    }
   ],
   "source": [
    "path = os.getcwd()\n",
    "path += '\\\\xls\\\\'\n",
    "files = os.listdir(path)\n",
    "files"
   ]
  },
  {
   "cell_type": "code",
   "execution_count": 3,
   "id": "89424a9c",
   "metadata": {},
   "outputs": [],
   "source": [
    "df = pd.DataFrame()"
   ]
  },
  {
   "cell_type": "code",
   "execution_count": 14,
   "id": "0cd3e4dd",
   "metadata": {},
   "outputs": [],
   "source": [
    "df = pd.concat([pd.read_excel(('xls/' + file),\n",
    "                              skiprows=1,\n",
    "                              skipfooter=2,\n",
    "                              usecols=[3, 4, 5, 6, 8, 14],\n",
    "                              dtype={0: str, 2: str}) for file in files])"
   ]
  },
  {
   "cell_type": "code",
   "execution_count": 15,
   "id": "5a38a251",
   "metadata": {},
   "outputs": [
    {
     "data": {
      "text/html": [
       "<div>\n",
       "<style scoped>\n",
       "    .dataframe tbody tr th:only-of-type {\n",
       "        vertical-align: middle;\n",
       "    }\n",
       "\n",
       "    .dataframe tbody tr th {\n",
       "        vertical-align: top;\n",
       "    }\n",
       "\n",
       "    .dataframe thead th {\n",
       "        text-align: right;\n",
       "    }\n",
       "</style>\n",
       "<table border=\"1\" class=\"dataframe\">\n",
       "  <thead>\n",
       "    <tr style=\"text-align: right;\">\n",
       "      <th></th>\n",
       "      <th>Номер мерчанта</th>\n",
       "      <th>Наименование ТСТ</th>\n",
       "      <th>Номер терминала</th>\n",
       "      <th>Дата операции</th>\n",
       "      <th>Сумма операции</th>\n",
       "      <th>Тип операции</th>\n",
       "    </tr>\n",
       "  </thead>\n",
       "  <tbody>\n",
       "    <tr>\n",
       "      <th>0</th>\n",
       "      <td>781000808223</td>\n",
       "      <td>CP_Плаза-Телеком._P_QR</td>\n",
       "      <td>28326593</td>\n",
       "      <td>2023-12-31 23:21:38</td>\n",
       "      <td>120</td>\n",
       "      <td>Покупка</td>\n",
       "    </tr>\n",
       "    <tr>\n",
       "      <th>1</th>\n",
       "      <td>781000808223</td>\n",
       "      <td>CP_Плаза-Телеком._P_QR</td>\n",
       "      <td>29264133</td>\n",
       "      <td>2023-12-31 06:49:55</td>\n",
       "      <td>110</td>\n",
       "      <td>Покупка</td>\n",
       "    </tr>\n",
       "    <tr>\n",
       "      <th>2</th>\n",
       "      <td>781000808223</td>\n",
       "      <td>CP_Плаза-Телеком._P_QR</td>\n",
       "      <td>29264133</td>\n",
       "      <td>2023-12-31 06:51:53</td>\n",
       "      <td>110</td>\n",
       "      <td>Покупка</td>\n",
       "    </tr>\n",
       "    <tr>\n",
       "      <th>3</th>\n",
       "      <td>781000808223</td>\n",
       "      <td>CP_Плаза-Телеком._P_QR</td>\n",
       "      <td>29264133</td>\n",
       "      <td>2023-12-31 20:41:40</td>\n",
       "      <td>110</td>\n",
       "      <td>Покупка</td>\n",
       "    </tr>\n",
       "    <tr>\n",
       "      <th>4</th>\n",
       "      <td>781000808223</td>\n",
       "      <td>CP_Плаза-Телеком._P_QR</td>\n",
       "      <td>29604706</td>\n",
       "      <td>2023-12-31 00:21:36</td>\n",
       "      <td>150</td>\n",
       "      <td>Покупка</td>\n",
       "    </tr>\n",
       "  </tbody>\n",
       "</table>\n",
       "</div>"
      ],
      "text/plain": [
       "  Номер мерчанта        Наименование ТСТ Номер терминала       Дата операции  \\\n",
       "0   781000808223  CP_Плаза-Телеком._P_QR        28326593 2023-12-31 23:21:38   \n",
       "1   781000808223  CP_Плаза-Телеком._P_QR        29264133 2023-12-31 06:49:55   \n",
       "2   781000808223  CP_Плаза-Телеком._P_QR        29264133 2023-12-31 06:51:53   \n",
       "3   781000808223  CP_Плаза-Телеком._P_QR        29264133 2023-12-31 20:41:40   \n",
       "4   781000808223  CP_Плаза-Телеком._P_QR        29604706 2023-12-31 00:21:36   \n",
       "\n",
       "   Сумма операции Тип операции  \n",
       "0             120      Покупка  \n",
       "1             110      Покупка  \n",
       "2             110      Покупка  \n",
       "3             110      Покупка  \n",
       "4             150      Покупка  "
      ]
     },
     "execution_count": 15,
     "metadata": {},
     "output_type": "execute_result"
    }
   ],
   "source": [
    "df.head()"
   ]
  },
  {
   "cell_type": "code",
   "execution_count": 135,
   "id": "9c7ff0cb",
   "metadata": {},
   "outputs": [],
   "source": [
    "df.to_excel('10days.xlsx')"
   ]
  },
  {
   "cell_type": "code",
   "execution_count": 16,
   "id": "c4311932",
   "metadata": {},
   "outputs": [
    {
     "data": {
      "text/plain": [
       "Номер мерчанта      56\n",
       "Наименование ТСТ    56\n",
       "Номер терминала     56\n",
       "Дата операции       56\n",
       "Сумма операции       0\n",
       "Тип операции        56\n",
       "dtype: int64"
      ]
     },
     "execution_count": 16,
     "metadata": {},
     "output_type": "execute_result"
    }
   ],
   "source": [
    "df.isnull().sum()"
   ]
  },
  {
   "cell_type": "code",
   "execution_count": 17,
   "id": "e963c3f7",
   "metadata": {},
   "outputs": [],
   "source": [
    "df = df.dropna()"
   ]
  },
  {
   "cell_type": "code",
   "execution_count": 27,
   "id": "ed6cfbc7",
   "metadata": {},
   "outputs": [
    {
     "data": {
      "text/plain": [
       "<DatetimeArray>\n",
       "['2023-12-31 23:21:38', '2023-12-31 06:49:55', '2023-12-31 06:51:53',\n",
       " '2023-12-31 20:41:40', '2023-12-31 00:21:36', '2023-12-31 09:06:56',\n",
       " '2023-12-31 11:28:28', '2023-12-31 08:01:22', '2023-12-31 14:40:52',\n",
       " '2023-12-31 13:48:51',\n",
       " ...\n",
       " '2024-01-09 09:56:46', '2024-01-09 11:04:55', '2024-01-09 15:44:58',\n",
       " '2024-01-09 17:10:47', '2024-01-09 17:15:08', '2024-01-09 18:34:37',\n",
       " '2024-01-09 19:02:23', '2024-01-09 19:42:29', '2024-01-09 20:23:00',\n",
       " '2024-01-09 20:28:45']\n",
       "Length: 34534, dtype: datetime64[ns]"
      ]
     },
     "execution_count": 27,
     "metadata": {},
     "output_type": "execute_result"
    }
   ],
   "source": [
    "df['Дата операции'].unique()"
   ]
  },
  {
   "cell_type": "code",
   "execution_count": 29,
   "id": "a1100d5a",
   "metadata": {},
   "outputs": [
    {
     "data": {
      "text/html": [
       "<div>\n",
       "<style scoped>\n",
       "    .dataframe tbody tr th:only-of-type {\n",
       "        vertical-align: middle;\n",
       "    }\n",
       "\n",
       "    .dataframe tbody tr th {\n",
       "        vertical-align: top;\n",
       "    }\n",
       "\n",
       "    .dataframe thead th {\n",
       "        text-align: right;\n",
       "    }\n",
       "</style>\n",
       "<table border=\"1\" class=\"dataframe\">\n",
       "  <thead>\n",
       "    <tr style=\"text-align: right;\">\n",
       "      <th></th>\n",
       "      <th>Номер мерчанта</th>\n",
       "      <th>Наименование ТСТ</th>\n",
       "      <th>Номер терминала</th>\n",
       "      <th>Дата операции</th>\n",
       "      <th>Сумма операции</th>\n",
       "      <th>Тип операции</th>\n",
       "    </tr>\n",
       "  </thead>\n",
       "  <tbody>\n",
       "    <tr>\n",
       "      <th>0</th>\n",
       "      <td>781000094404</td>\n",
       "      <td>Плаза-Телеком</td>\n",
       "      <td>21604723</td>\n",
       "      <td>2024-01-06 13:17:38</td>\n",
       "      <td>190</td>\n",
       "      <td>Покупка</td>\n",
       "    </tr>\n",
       "    <tr>\n",
       "      <th>1</th>\n",
       "      <td>781000094404</td>\n",
       "      <td>Плаза-Телеком</td>\n",
       "      <td>21604723</td>\n",
       "      <td>2024-01-06 15:20:39</td>\n",
       "      <td>85</td>\n",
       "      <td>Покупка</td>\n",
       "    </tr>\n",
       "    <tr>\n",
       "      <th>2</th>\n",
       "      <td>781000094404</td>\n",
       "      <td>Плаза-Телеком</td>\n",
       "      <td>21604723</td>\n",
       "      <td>2024-01-06 18:20:43</td>\n",
       "      <td>110</td>\n",
       "      <td>Покупка</td>\n",
       "    </tr>\n",
       "    <tr>\n",
       "      <th>3</th>\n",
       "      <td>781000094404</td>\n",
       "      <td>Плаза-Телеком</td>\n",
       "      <td>21604723</td>\n",
       "      <td>2024-01-06 18:26:43</td>\n",
       "      <td>175</td>\n",
       "      <td>Покупка</td>\n",
       "    </tr>\n",
       "    <tr>\n",
       "      <th>4</th>\n",
       "      <td>781000094404</td>\n",
       "      <td>Плаза-Телеком</td>\n",
       "      <td>21604723</td>\n",
       "      <td>2024-01-06 19:15:53</td>\n",
       "      <td>120</td>\n",
       "      <td>Покупка</td>\n",
       "    </tr>\n",
       "    <tr>\n",
       "      <th>...</th>\n",
       "      <td>...</td>\n",
       "      <td>...</td>\n",
       "      <td>...</td>\n",
       "      <td>...</td>\n",
       "      <td>...</td>\n",
       "      <td>...</td>\n",
       "    </tr>\n",
       "    <tr>\n",
       "      <th>2869</th>\n",
       "      <td>781000123861</td>\n",
       "      <td>CP_Плаза-Телеком.</td>\n",
       "      <td>26423853</td>\n",
       "      <td>2024-01-06 19:35:47</td>\n",
       "      <td>110</td>\n",
       "      <td>Покупка</td>\n",
       "    </tr>\n",
       "    <tr>\n",
       "      <th>2870</th>\n",
       "      <td>781000123861</td>\n",
       "      <td>CP_Плаза-Телеком.</td>\n",
       "      <td>26423853</td>\n",
       "      <td>2024-01-06 21:09:16</td>\n",
       "      <td>110</td>\n",
       "      <td>Покупка</td>\n",
       "    </tr>\n",
       "    <tr>\n",
       "      <th>2871</th>\n",
       "      <td>781000123861</td>\n",
       "      <td>CP_Плаза-Телеком.</td>\n",
       "      <td>26423853</td>\n",
       "      <td>2024-01-06 22:50:49</td>\n",
       "      <td>110</td>\n",
       "      <td>Покупка</td>\n",
       "    </tr>\n",
       "    <tr>\n",
       "      <th>2872</th>\n",
       "      <td>781000123861</td>\n",
       "      <td>CP_Плаза-Телеком.</td>\n",
       "      <td>26423853</td>\n",
       "      <td>2024-01-06 22:52:39</td>\n",
       "      <td>100</td>\n",
       "      <td>Покупка</td>\n",
       "    </tr>\n",
       "    <tr>\n",
       "      <th>2877</th>\n",
       "      <td>781000123861</td>\n",
       "      <td>CP_Плаза-Телеком.</td>\n",
       "      <td>26423857</td>\n",
       "      <td>2024-01-06 23:45:29</td>\n",
       "      <td>120</td>\n",
       "      <td>Покупка</td>\n",
       "    </tr>\n",
       "  </tbody>\n",
       "</table>\n",
       "<p>3243 rows × 6 columns</p>\n",
       "</div>"
      ],
      "text/plain": [
       "     Номер мерчанта   Наименование ТСТ Номер терминала       Дата операции  \\\n",
       "0      781000094404      Плаза-Телеком        21604723 2024-01-06 13:17:38   \n",
       "1      781000094404      Плаза-Телеком        21604723 2024-01-06 15:20:39   \n",
       "2      781000094404      Плаза-Телеком        21604723 2024-01-06 18:20:43   \n",
       "3      781000094404      Плаза-Телеком        21604723 2024-01-06 18:26:43   \n",
       "4      781000094404      Плаза-Телеком        21604723 2024-01-06 19:15:53   \n",
       "...             ...                ...             ...                 ...   \n",
       "2869   781000123861  CP_Плаза-Телеком.        26423853 2024-01-06 19:35:47   \n",
       "2870   781000123861  CP_Плаза-Телеком.        26423853 2024-01-06 21:09:16   \n",
       "2871   781000123861  CP_Плаза-Телеком.        26423853 2024-01-06 22:50:49   \n",
       "2872   781000123861  CP_Плаза-Телеком.        26423853 2024-01-06 22:52:39   \n",
       "2877   781000123861  CP_Плаза-Телеком.        26423857 2024-01-06 23:45:29   \n",
       "\n",
       "      Сумма операции Тип операции  \n",
       "0                190      Покупка  \n",
       "1                 85      Покупка  \n",
       "2                110      Покупка  \n",
       "3                175      Покупка  \n",
       "4                120      Покупка  \n",
       "...              ...          ...  \n",
       "2869             110      Покупка  \n",
       "2870             110      Покупка  \n",
       "2871             110      Покупка  \n",
       "2872             100      Покупка  \n",
       "2877             120      Покупка  \n",
       "\n",
       "[3243 rows x 6 columns]"
      ]
     },
     "execution_count": 29,
     "metadata": {},
     "output_type": "execute_result"
    }
   ],
   "source": [
    "df[df['Дата операции'].dt.strftime('%Y-%m-%d') == '2024-01-02']"
   ]
  },
  {
   "cell_type": "code",
   "execution_count": 44,
   "id": "0c64be79",
   "metadata": {},
   "outputs": [
    {
     "data": {
      "text/html": [
       "<div>\n",
       "<style scoped>\n",
       "    .dataframe tbody tr th:only-of-type {\n",
       "        vertical-align: middle;\n",
       "    }\n",
       "\n",
       "    .dataframe tbody tr th {\n",
       "        vertical-align: top;\n",
       "    }\n",
       "\n",
       "    .dataframe thead th {\n",
       "        text-align: right;\n",
       "    }\n",
       "</style>\n",
       "<table border=\"1\" class=\"dataframe\">\n",
       "  <thead>\n",
       "    <tr style=\"text-align: right;\">\n",
       "      <th></th>\n",
       "      <th>Номер мерчанта</th>\n",
       "      <th>Наименование ТСТ</th>\n",
       "      <th>Номер терминала</th>\n",
       "      <th>Дата операции</th>\n",
       "      <th>Сумма операции</th>\n",
       "      <th>Тип операции</th>\n",
       "    </tr>\n",
       "  </thead>\n",
       "  <tbody>\n",
       "    <tr>\n",
       "      <th>920</th>\n",
       "      <td>781000808213</td>\n",
       "      <td>Плаза-Телеком_P_QR</td>\n",
       "      <td>28326401</td>\n",
       "      <td>2024-01-02 16:16:39.000</td>\n",
       "      <td>155</td>\n",
       "      <td>Покупка</td>\n",
       "    </tr>\n",
       "    <tr>\n",
       "      <th>921</th>\n",
       "      <td>781000808213</td>\n",
       "      <td>Плаза-Телеком_P_QR</td>\n",
       "      <td>28326401</td>\n",
       "      <td>2024-01-02 22:02:13.122</td>\n",
       "      <td>100</td>\n",
       "      <td>Покупка</td>\n",
       "    </tr>\n",
       "  </tbody>\n",
       "</table>\n",
       "</div>"
      ],
      "text/plain": [
       "    Номер мерчанта    Наименование ТСТ Номер терминала  \\\n",
       "920   781000808213  Плаза-Телеком_P_QR        28326401   \n",
       "921   781000808213  Плаза-Телеком_P_QR        28326401   \n",
       "\n",
       "              Дата операции  Сумма операции Тип операции  \n",
       "920 2024-01-02 16:16:39.000             155      Покупка  \n",
       "921 2024-01-02 22:02:13.122             100      Покупка  "
      ]
     },
     "execution_count": 44,
     "metadata": {},
     "output_type": "execute_result"
    }
   ],
   "source": [
    "df[df['Номер терминала'] == '28326401']"
   ]
  },
  {
   "cell_type": "code",
   "execution_count": 48,
   "id": "231d25bf",
   "metadata": {},
   "outputs": [],
   "source": [
    "df_0102 = df[df['Дата операции'].dt.strftime('%Y-%m-%d') == '2024-01-02']"
   ]
  },
  {
   "cell_type": "code",
   "execution_count": 55,
   "id": "a52ec425",
   "metadata": {},
   "outputs": [],
   "source": [
    "df_0102[df_0102['Номер терминала'].str.contains('28326401')\n",
    "                 |  df_0102['Номер терминала'].str.contains('21604747')].to_excel(\"2jan.xlsx\")"
   ]
  },
  {
   "cell_type": "code",
   "execution_count": 53,
   "id": "48321fff",
   "metadata": {},
   "outputs": [
    {
     "data": {
      "text/plain": [
       "Наименование ТСТ\n",
       "Плаза-Телеком         605\n",
       "Плаза-Телеком_P_QR    255\n",
       "Name: Сумма операции, dtype: int64"
      ]
     },
     "execution_count": 53,
     "metadata": {},
     "output_type": "execute_result"
    }
   ],
   "source": [
    "df_0102[df_0102['Номер терминала'].str.contains('28326401')\n",
    "                 |  df_0102['Номер терминала'].str.contains('21604747')].groupby('Наименование ТСТ')['Сумма операции'].sum()"
   ]
  },
  {
   "cell_type": "code",
   "execution_count": 37,
   "id": "1cd31a38",
   "metadata": {},
   "outputs": [],
   "source": [
    "grouped = df.groupby(['Номер мерчанта', 'Номер терминала'])['Сумма операции'].sum().reset_index()"
   ]
  },
  {
   "cell_type": "code",
   "execution_count": 34,
   "id": "8cf71424",
   "metadata": {},
   "outputs": [],
   "source": [
    "df.to_excel('10дней.xlsx')"
   ]
  },
  {
   "cell_type": "code",
   "execution_count": 40,
   "id": "5c1aa2f6",
   "metadata": {},
   "outputs": [
    {
     "name": "stdout",
     "output_type": "stream",
     "text": [
      "<class 'pandas.core.frame.DataFrame'>\n",
      "RangeIndex: 717 entries, 0 to 716\n",
      "Data columns (total 3 columns):\n",
      " #   Column           Non-Null Count  Dtype \n",
      "---  ------           --------------  ----- \n",
      " 0   Номер мерчанта   717 non-null    object\n",
      " 1   Номер терминала  717 non-null    object\n",
      " 2   Сумма операции   717 non-null    int64 \n",
      "dtypes: int64(1), object(2)\n",
      "memory usage: 16.9+ KB\n"
     ]
    }
   ],
   "source": [
    "grouped.info()"
   ]
  },
  {
   "cell_type": "code",
   "execution_count": 42,
   "id": "fe73732d",
   "metadata": {},
   "outputs": [
    {
     "data": {
      "text/html": [
       "<div>\n",
       "<style scoped>\n",
       "    .dataframe tbody tr th:only-of-type {\n",
       "        vertical-align: middle;\n",
       "    }\n",
       "\n",
       "    .dataframe tbody tr th {\n",
       "        vertical-align: top;\n",
       "    }\n",
       "\n",
       "    .dataframe thead th {\n",
       "        text-align: right;\n",
       "    }\n",
       "</style>\n",
       "<table border=\"1\" class=\"dataframe\">\n",
       "  <thead>\n",
       "    <tr style=\"text-align: right;\">\n",
       "      <th></th>\n",
       "      <th>Номер мерчанта</th>\n",
       "      <th>Номер терминала</th>\n",
       "      <th>Сумма операции</th>\n",
       "    </tr>\n",
       "  </thead>\n",
       "  <tbody>\n",
       "    <tr>\n",
       "      <th>19</th>\n",
       "      <td>781000094404</td>\n",
       "      <td>21604747</td>\n",
       "      <td>15030</td>\n",
       "    </tr>\n",
       "    <tr>\n",
       "      <th>469</th>\n",
       "      <td>781000808213</td>\n",
       "      <td>28326401</td>\n",
       "      <td>255</td>\n",
       "    </tr>\n",
       "  </tbody>\n",
       "</table>\n",
       "</div>"
      ],
      "text/plain": [
       "    Номер мерчанта Номер терминала  Сумма операции\n",
       "19    781000094404        21604747           15030\n",
       "469   781000808213        28326401             255"
      ]
     },
     "execution_count": 42,
     "metadata": {},
     "output_type": "execute_result"
    }
   ],
   "source": [
    "grouped[grouped['Номер терминала'].str.contains('28326401')\n",
    "        |  grouped['Номер терминала'].str.contains('21604747')]"
   ]
  },
  {
   "cell_type": "code",
   "execution_count": null,
   "id": "ac588ccc",
   "metadata": {},
   "outputs": [],
   "source": []
  },
  {
   "cell_type": "code",
   "execution_count": null,
   "id": "f59bced9",
   "metadata": {},
   "outputs": [],
   "source": []
  },
  {
   "cell_type": "code",
   "execution_count": null,
   "id": "ddd7066e",
   "metadata": {},
   "outputs": [],
   "source": []
  },
  {
   "cell_type": "code",
   "execution_count": 53,
   "id": "64d3893e",
   "metadata": {},
   "outputs": [],
   "source": [
    "df = df.drop(columns='Тип операции')"
   ]
  },
  {
   "cell_type": "code",
   "execution_count": 56,
   "id": "5d41f72a",
   "metadata": {},
   "outputs": [],
   "source": [
    "df = df.drop_duplicates(subset=['Номер мерчанта', 'Номер терминала'])"
   ]
  },
  {
   "cell_type": "code",
   "execution_count": 71,
   "id": "e8243249",
   "metadata": {},
   "outputs": [],
   "source": [
    "group_merchant_df = df.groupby(['Номер мерчанта', 'Номер терминала', 'Наименование ТСТ']).count()"
   ]
  },
  {
   "cell_type": "code",
   "execution_count": 69,
   "id": "c603b0f8",
   "metadata": {},
   "outputs": [],
   "source": [
    "group_et_df = df.groupby(['Номер терминала', 'Номер мерчанта']).count()"
   ]
  },
  {
   "cell_type": "code",
   "execution_count": 117,
   "id": "57464b38",
   "metadata": {},
   "outputs": [],
   "source": [
    "group_et_df = group_et_df.reset_index()"
   ]
  },
  {
   "cell_type": "code",
   "execution_count": 70,
   "id": "14f4a051",
   "metadata": {},
   "outputs": [],
   "source": [
    "group_et_df.to_excel('bank.xlsx')"
   ]
  },
  {
   "cell_type": "code",
   "execution_count": 129,
   "id": "7d607c4b",
   "metadata": {},
   "outputs": [
    {
     "data": {
      "text/html": [
       "<div>\n",
       "<style scoped>\n",
       "    .dataframe tbody tr th:only-of-type {\n",
       "        vertical-align: middle;\n",
       "    }\n",
       "\n",
       "    .dataframe tbody tr th {\n",
       "        vertical-align: top;\n",
       "    }\n",
       "\n",
       "    .dataframe thead th {\n",
       "        text-align: right;\n",
       "    }\n",
       "</style>\n",
       "<table border=\"1\" class=\"dataframe\">\n",
       "  <thead>\n",
       "    <tr style=\"text-align: right;\">\n",
       "      <th></th>\n",
       "      <th>Номер мерчанта</th>\n",
       "      <th>Наименование ТСТ</th>\n",
       "      <th>Номер терминала</th>\n",
       "      <th>Дата операции</th>\n",
       "    </tr>\n",
       "  </thead>\n",
       "  <tbody>\n",
       "    <tr>\n",
       "      <th>35</th>\n",
       "      <td>781000676991</td>\n",
       "      <td>CP_Плаза-Телеком_P_QR</td>\n",
       "      <td>29607092</td>\n",
       "      <td>2023-12-31 18:37:32.118</td>\n",
       "    </tr>\n",
       "  </tbody>\n",
       "</table>\n",
       "</div>"
      ],
      "text/plain": [
       "   Номер мерчанта       Наименование ТСТ Номер терминала  \\\n",
       "35   781000676991  CP_Плаза-Телеком_P_QR        29607092   \n",
       "\n",
       "             Дата операции  \n",
       "35 2023-12-31 18:37:32.118  "
      ]
     },
     "execution_count": 129,
     "metadata": {},
     "output_type": "execute_result"
    }
   ],
   "source": [
    "df[df['Номер мерчанта'] == '781000676991']"
   ]
  },
  {
   "cell_type": "code",
   "execution_count": 125,
   "id": "69d35681",
   "metadata": {},
   "outputs": [],
   "source": [
    "not_bp = pd.read_excel('not_bp.xlsx', dtype=str)"
   ]
  },
  {
   "cell_type": "code",
   "execution_count": 123,
   "id": "c61a53b7",
   "metadata": {},
   "outputs": [
    {
     "data": {
      "text/html": [
       "<div>\n",
       "<style scoped>\n",
       "    .dataframe tbody tr th:only-of-type {\n",
       "        vertical-align: middle;\n",
       "    }\n",
       "\n",
       "    .dataframe tbody tr th {\n",
       "        vertical-align: top;\n",
       "    }\n",
       "\n",
       "    .dataframe thead th {\n",
       "        text-align: right;\n",
       "    }\n",
       "</style>\n",
       "<table border=\"1\" class=\"dataframe\">\n",
       "  <thead>\n",
       "    <tr style=\"text-align: right;\">\n",
       "      <th></th>\n",
       "      <th>et_num</th>\n",
       "    </tr>\n",
       "  </thead>\n",
       "  <tbody>\n",
       "    <tr>\n",
       "      <th>0</th>\n",
       "      <td>28326392</td>\n",
       "    </tr>\n",
       "    <tr>\n",
       "      <th>1</th>\n",
       "      <td>28326404</td>\n",
       "    </tr>\n",
       "    <tr>\n",
       "      <th>2</th>\n",
       "      <td>28326411</td>\n",
       "    </tr>\n",
       "    <tr>\n",
       "      <th>3</th>\n",
       "      <td>28326412</td>\n",
       "    </tr>\n",
       "    <tr>\n",
       "      <th>4</th>\n",
       "      <td>28326414</td>\n",
       "    </tr>\n",
       "  </tbody>\n",
       "</table>\n",
       "</div>"
      ],
      "text/plain": [
       "     et_num\n",
       "0  28326392\n",
       "1  28326404\n",
       "2  28326411\n",
       "3  28326412\n",
       "4  28326414"
      ]
     },
     "execution_count": 123,
     "metadata": {},
     "output_type": "execute_result"
    }
   ],
   "source": [
    "not_bp.head()"
   ]
  },
  {
   "cell_type": "code",
   "execution_count": 126,
   "id": "c63a34c8",
   "metadata": {},
   "outputs": [],
   "source": [
    "merged = pd.merge(not_bp, df, how='left', left_on='et_num',\n",
    "                     right_on='Номер терминала')"
   ]
  },
  {
   "cell_type": "code",
   "execution_count": 127,
   "id": "3cf7a54d",
   "metadata": {},
   "outputs": [
    {
     "data": {
      "text/html": [
       "<div>\n",
       "<style scoped>\n",
       "    .dataframe tbody tr th:only-of-type {\n",
       "        vertical-align: middle;\n",
       "    }\n",
       "\n",
       "    .dataframe tbody tr th {\n",
       "        vertical-align: top;\n",
       "    }\n",
       "\n",
       "    .dataframe thead th {\n",
       "        text-align: right;\n",
       "    }\n",
       "</style>\n",
       "<table border=\"1\" class=\"dataframe\">\n",
       "  <thead>\n",
       "    <tr style=\"text-align: right;\">\n",
       "      <th></th>\n",
       "      <th>et_num</th>\n",
       "      <th>Номер мерчанта</th>\n",
       "      <th>Наименование ТСТ</th>\n",
       "      <th>Номер терминала</th>\n",
       "      <th>Дата операции</th>\n",
       "    </tr>\n",
       "  </thead>\n",
       "  <tbody>\n",
       "    <tr>\n",
       "      <th>0</th>\n",
       "      <td>28326392</td>\n",
       "      <td>781000808213</td>\n",
       "      <td>Плаза-Телеком_P_QR</td>\n",
       "      <td>28326392</td>\n",
       "      <td>2023-12-31 09:21:55</td>\n",
       "    </tr>\n",
       "    <tr>\n",
       "      <th>1</th>\n",
       "      <td>28326404</td>\n",
       "      <td>781000808213</td>\n",
       "      <td>Плаза-Телеком_P_QR</td>\n",
       "      <td>28326404</td>\n",
       "      <td>2023-12-31 19:45:51</td>\n",
       "    </tr>\n",
       "    <tr>\n",
       "      <th>2</th>\n",
       "      <td>28326411</td>\n",
       "      <td>781000808213</td>\n",
       "      <td>Плаза-Телеком_P_QR</td>\n",
       "      <td>28326411</td>\n",
       "      <td>2023-12-31 07:16:50</td>\n",
       "    </tr>\n",
       "    <tr>\n",
       "      <th>3</th>\n",
       "      <td>28326412</td>\n",
       "      <td>781000808213</td>\n",
       "      <td>Плаза-Телеком_P_QR</td>\n",
       "      <td>28326412</td>\n",
       "      <td>2023-12-31 11:52:33</td>\n",
       "    </tr>\n",
       "    <tr>\n",
       "      <th>4</th>\n",
       "      <td>28326414</td>\n",
       "      <td>781000808213</td>\n",
       "      <td>Плаза-Телеком_P_QR</td>\n",
       "      <td>28326414</td>\n",
       "      <td>2023-12-31 17:35:56</td>\n",
       "    </tr>\n",
       "  </tbody>\n",
       "</table>\n",
       "</div>"
      ],
      "text/plain": [
       "     et_num Номер мерчанта    Наименование ТСТ Номер терминала  \\\n",
       "0  28326392   781000808213  Плаза-Телеком_P_QR        28326392   \n",
       "1  28326404   781000808213  Плаза-Телеком_P_QR        28326404   \n",
       "2  28326411   781000808213  Плаза-Телеком_P_QR        28326411   \n",
       "3  28326412   781000808213  Плаза-Телеком_P_QR        28326412   \n",
       "4  28326414   781000808213  Плаза-Телеком_P_QR        28326414   \n",
       "\n",
       "        Дата операции  \n",
       "0 2023-12-31 09:21:55  \n",
       "1 2023-12-31 19:45:51  \n",
       "2 2023-12-31 07:16:50  \n",
       "3 2023-12-31 11:52:33  \n",
       "4 2023-12-31 17:35:56  "
      ]
     },
     "execution_count": 127,
     "metadata": {},
     "output_type": "execute_result"
    }
   ],
   "source": [
    "merged.head()"
   ]
  },
  {
   "cell_type": "code",
   "execution_count": 128,
   "id": "969a0640",
   "metadata": {},
   "outputs": [],
   "source": [
    "merged.to_excel('bank_not_in_bp.xlsx')"
   ]
  },
  {
   "cell_type": "code",
   "execution_count": null,
   "id": "7edbcb50",
   "metadata": {},
   "outputs": [],
   "source": []
  },
  {
   "cell_type": "code",
   "execution_count": 73,
   "id": "273054ea",
   "metadata": {},
   "outputs": [
    {
     "data": {
      "text/html": [
       "<div>\n",
       "<style scoped>\n",
       "    .dataframe tbody tr th:only-of-type {\n",
       "        vertical-align: middle;\n",
       "    }\n",
       "\n",
       "    .dataframe tbody tr th {\n",
       "        vertical-align: top;\n",
       "    }\n",
       "\n",
       "    .dataframe thead th {\n",
       "        text-align: right;\n",
       "    }\n",
       "</style>\n",
       "<table border=\"1\" class=\"dataframe\">\n",
       "  <thead>\n",
       "    <tr style=\"text-align: right;\">\n",
       "      <th></th>\n",
       "      <th>Номер мерчанта</th>\n",
       "      <th>Номер терминала</th>\n",
       "      <th>Наименование ТСТ</th>\n",
       "      <th>Дата операции</th>\n",
       "    </tr>\n",
       "  </thead>\n",
       "  <tbody>\n",
       "    <tr>\n",
       "      <th>0</th>\n",
       "      <td>781000094404</td>\n",
       "      <td>21604723</td>\n",
       "      <td>Плаза-Телеком</td>\n",
       "      <td>1</td>\n",
       "    </tr>\n",
       "    <tr>\n",
       "      <th>1</th>\n",
       "      <td>781000094404</td>\n",
       "      <td>21604724</td>\n",
       "      <td>Плаза-Телеком</td>\n",
       "      <td>1</td>\n",
       "    </tr>\n",
       "    <tr>\n",
       "      <th>2</th>\n",
       "      <td>781000094404</td>\n",
       "      <td>21604725</td>\n",
       "      <td>Плаза-Телеком</td>\n",
       "      <td>1</td>\n",
       "    </tr>\n",
       "    <tr>\n",
       "      <th>3</th>\n",
       "      <td>781000094404</td>\n",
       "      <td>21604726</td>\n",
       "      <td>Плаза-Телеком</td>\n",
       "      <td>1</td>\n",
       "    </tr>\n",
       "    <tr>\n",
       "      <th>4</th>\n",
       "      <td>781000094404</td>\n",
       "      <td>21604728</td>\n",
       "      <td>Плаза-Телеком</td>\n",
       "      <td>1</td>\n",
       "    </tr>\n",
       "    <tr>\n",
       "      <th>...</th>\n",
       "      <td>...</td>\n",
       "      <td>...</td>\n",
       "      <td>...</td>\n",
       "      <td>...</td>\n",
       "    </tr>\n",
       "    <tr>\n",
       "      <th>325</th>\n",
       "      <td>781000808223</td>\n",
       "      <td>29733436</td>\n",
       "      <td>CP_Плаза-Телеком._P_QR</td>\n",
       "      <td>1</td>\n",
       "    </tr>\n",
       "    <tr>\n",
       "      <th>326</th>\n",
       "      <td>781000808223</td>\n",
       "      <td>29733441</td>\n",
       "      <td>CP_Плаза-Телеком._P_QR</td>\n",
       "      <td>1</td>\n",
       "    </tr>\n",
       "    <tr>\n",
       "      <th>327</th>\n",
       "      <td>781000808223</td>\n",
       "      <td>29954717</td>\n",
       "      <td>CP_Плаза-Телеком._P_QR</td>\n",
       "      <td>1</td>\n",
       "    </tr>\n",
       "    <tr>\n",
       "      <th>328</th>\n",
       "      <td>781000808223</td>\n",
       "      <td>29954810</td>\n",
       "      <td>CP_Плаза-Телеком._P_QR</td>\n",
       "      <td>1</td>\n",
       "    </tr>\n",
       "    <tr>\n",
       "      <th>329</th>\n",
       "      <td>781000808223</td>\n",
       "      <td>30618220</td>\n",
       "      <td>CP_Плаза-Телеком._P_QR</td>\n",
       "      <td>1</td>\n",
       "    </tr>\n",
       "  </tbody>\n",
       "</table>\n",
       "<p>330 rows × 4 columns</p>\n",
       "</div>"
      ],
      "text/plain": [
       "    Номер мерчанта Номер терминала        Наименование ТСТ  Дата операции\n",
       "0     781000094404        21604723           Плаза-Телеком              1\n",
       "1     781000094404        21604724           Плаза-Телеком              1\n",
       "2     781000094404        21604725           Плаза-Телеком              1\n",
       "3     781000094404        21604726           Плаза-Телеком              1\n",
       "4     781000094404        21604728           Плаза-Телеком              1\n",
       "..             ...             ...                     ...            ...\n",
       "325   781000808223        29733436  CP_Плаза-Телеком._P_QR              1\n",
       "326   781000808223        29733441  CP_Плаза-Телеком._P_QR              1\n",
       "327   781000808223        29954717  CP_Плаза-Телеком._P_QR              1\n",
       "328   781000808223        29954810  CP_Плаза-Телеком._P_QR              1\n",
       "329   781000808223        30618220  CP_Плаза-Телеком._P_QR              1\n",
       "\n",
       "[330 rows x 4 columns]"
      ]
     },
     "execution_count": 73,
     "metadata": {},
     "output_type": "execute_result"
    }
   ],
   "source": [
    "group_merchant_df.reset_index()"
   ]
  },
  {
   "cell_type": "code",
   "execution_count": 96,
   "id": "3a3752b4",
   "metadata": {},
   "outputs": [],
   "source": [
    "bp_df = pd.read_excel('bp.xlsx', names=['Терминал БП', 'Мерчант БП'])"
   ]
  },
  {
   "cell_type": "code",
   "execution_count": 97,
   "id": "63f3237c",
   "metadata": {},
   "outputs": [
    {
     "data": {
      "text/html": [
       "<div>\n",
       "<style scoped>\n",
       "    .dataframe tbody tr th:only-of-type {\n",
       "        vertical-align: middle;\n",
       "    }\n",
       "\n",
       "    .dataframe tbody tr th {\n",
       "        vertical-align: top;\n",
       "    }\n",
       "\n",
       "    .dataframe thead th {\n",
       "        text-align: right;\n",
       "    }\n",
       "</style>\n",
       "<table border=\"1\" class=\"dataframe\">\n",
       "  <thead>\n",
       "    <tr style=\"text-align: right;\">\n",
       "      <th></th>\n",
       "      <th>Терминал БП</th>\n",
       "      <th>Мерчант БП</th>\n",
       "    </tr>\n",
       "  </thead>\n",
       "  <tbody>\n",
       "    <tr>\n",
       "      <th>0</th>\n",
       "      <td>С21604727</td>\n",
       "      <td>Мерчант № 781000094404 от 21.10.2019 СберБанк</td>\n",
       "    </tr>\n",
       "    <tr>\n",
       "      <th>1</th>\n",
       "      <td>С21604728</td>\n",
       "      <td>Мерчант № 781000094404 от 21.10.2019 СберБанк</td>\n",
       "    </tr>\n",
       "    <tr>\n",
       "      <th>2</th>\n",
       "      <td>С21604726</td>\n",
       "      <td>Мерчант № 781000094404 от 21.10.2019 СберБанк</td>\n",
       "    </tr>\n",
       "    <tr>\n",
       "      <th>3</th>\n",
       "      <td>С21604724</td>\n",
       "      <td>Мерчант № 781000094404 от 21.10.2019 СберБанк</td>\n",
       "    </tr>\n",
       "    <tr>\n",
       "      <th>4</th>\n",
       "      <td>С21604723</td>\n",
       "      <td>Мерчант № 781000094404 от 21.10.2019 СберБанк</td>\n",
       "    </tr>\n",
       "  </tbody>\n",
       "</table>\n",
       "</div>"
      ],
      "text/plain": [
       "  Терминал БП                                     Мерчант БП\n",
       "0   С21604727  Мерчант № 781000094404 от 21.10.2019 СберБанк\n",
       "1   С21604728  Мерчант № 781000094404 от 21.10.2019 СберБанк\n",
       "2   С21604726  Мерчант № 781000094404 от 21.10.2019 СберБанк\n",
       "3   С21604724  Мерчант № 781000094404 от 21.10.2019 СберБанк\n",
       "4   С21604723  Мерчант № 781000094404 от 21.10.2019 СберБанк"
      ]
     },
     "execution_count": 97,
     "metadata": {},
     "output_type": "execute_result"
    }
   ],
   "source": [
    "bp_df.head()"
   ]
  },
  {
   "cell_type": "code",
   "execution_count": 85,
   "id": "54ca956a",
   "metadata": {},
   "outputs": [
    {
     "name": "stdout",
     "output_type": "stream",
     "text": [
      "<class 'pandas.core.frame.DataFrame'>\n",
      "RangeIndex: 689 entries, 0 to 688\n",
      "Data columns (total 2 columns):\n",
      " #   Column           Non-Null Count  Dtype \n",
      "---  ------           --------------  ----- \n",
      " 0   Номер терминала  689 non-null    object\n",
      " 1   Номер мерчанта   689 non-null    object\n",
      "dtypes: object(2)\n",
      "memory usage: 10.9+ KB\n"
     ]
    }
   ],
   "source": [
    "bp_df.info()"
   ]
  },
  {
   "cell_type": "markdown",
   "id": "8be295c7",
   "metadata": {},
   "source": [
    "в банке к каждому мерчанту привязан только один терминал и наоборот"
   ]
  },
  {
   "cell_type": "code",
   "execution_count": 87,
   "id": "693b898b",
   "metadata": {},
   "outputs": [],
   "source": [
    "def extract_number(s):\n",
    "    return re.search(\"([0-9]{7,15})\", s).group(0)"
   ]
  },
  {
   "cell_type": "code",
   "execution_count": 102,
   "id": "7ecd3f8c",
   "metadata": {},
   "outputs": [],
   "source": [
    "bp_df = bp_df.map(extract_number)"
   ]
  },
  {
   "cell_type": "code",
   "execution_count": 115,
   "id": "ca0aa590",
   "metadata": {},
   "outputs": [
    {
     "data": {
      "text/html": [
       "<div>\n",
       "<style scoped>\n",
       "    .dataframe tbody tr th:only-of-type {\n",
       "        vertical-align: middle;\n",
       "    }\n",
       "\n",
       "    .dataframe tbody tr th {\n",
       "        vertical-align: top;\n",
       "    }\n",
       "\n",
       "    .dataframe thead th {\n",
       "        text-align: right;\n",
       "    }\n",
       "</style>\n",
       "<table border=\"1\" class=\"dataframe\">\n",
       "  <thead>\n",
       "    <tr style=\"text-align: right;\">\n",
       "      <th></th>\n",
       "      <th>Терминал БП</th>\n",
       "      <th>Мерчант БП</th>\n",
       "    </tr>\n",
       "  </thead>\n",
       "  <tbody>\n",
       "    <tr>\n",
       "      <th>0</th>\n",
       "      <td>21604727</td>\n",
       "      <td>781000094404</td>\n",
       "    </tr>\n",
       "    <tr>\n",
       "      <th>1</th>\n",
       "      <td>21604728</td>\n",
       "      <td>781000094404</td>\n",
       "    </tr>\n",
       "    <tr>\n",
       "      <th>2</th>\n",
       "      <td>21604726</td>\n",
       "      <td>781000094404</td>\n",
       "    </tr>\n",
       "    <tr>\n",
       "      <th>3</th>\n",
       "      <td>21604724</td>\n",
       "      <td>781000094404</td>\n",
       "    </tr>\n",
       "    <tr>\n",
       "      <th>4</th>\n",
       "      <td>21604723</td>\n",
       "      <td>781000094404</td>\n",
       "    </tr>\n",
       "  </tbody>\n",
       "</table>\n",
       "</div>"
      ],
      "text/plain": [
       "  Терминал БП    Мерчант БП\n",
       "0    21604727  781000094404\n",
       "1    21604728  781000094404\n",
       "2    21604726  781000094404\n",
       "3    21604724  781000094404\n",
       "4    21604723  781000094404"
      ]
     },
     "execution_count": 115,
     "metadata": {},
     "output_type": "execute_result"
    }
   ],
   "source": [
    "bp_df.head()"
   ]
  },
  {
   "cell_type": "code",
   "execution_count": 103,
   "id": "6a1ad6ec",
   "metadata": {},
   "outputs": [
    {
     "data": {
      "text/html": [
       "<div>\n",
       "<style scoped>\n",
       "    .dataframe tbody tr th:only-of-type {\n",
       "        vertical-align: middle;\n",
       "    }\n",
       "\n",
       "    .dataframe tbody tr th {\n",
       "        vertical-align: top;\n",
       "    }\n",
       "\n",
       "    .dataframe thead th {\n",
       "        text-align: right;\n",
       "    }\n",
       "</style>\n",
       "<table border=\"1\" class=\"dataframe\">\n",
       "  <thead>\n",
       "    <tr style=\"text-align: right;\">\n",
       "      <th></th>\n",
       "      <th>Терминал БП</th>\n",
       "      <th>Мерчант БП</th>\n",
       "    </tr>\n",
       "  </thead>\n",
       "  <tbody>\n",
       "  </tbody>\n",
       "</table>\n",
       "</div>"
      ],
      "text/plain": [
       "Empty DataFrame\n",
       "Columns: [Терминал БП, Мерчант БП]\n",
       "Index: []"
      ]
     },
     "execution_count": 103,
     "metadata": {},
     "output_type": "execute_result"
    }
   ],
   "source": [
    "bp_df[bp_df.duplicated(keep=False)]"
   ]
  },
  {
   "cell_type": "code",
   "execution_count": 119,
   "id": "0f438d01",
   "metadata": {},
   "outputs": [],
   "source": [
    "df_merged = pd.merge(bp_df, group_et_df, how='outer', left_on='Терминал БП',\n",
    "                     right_on='Номер терминала', indicator=True)"
   ]
  },
  {
   "cell_type": "code",
   "execution_count": 120,
   "id": "c0da3330",
   "metadata": {},
   "outputs": [],
   "source": [
    "df_merged.to_excel('merge.xlsx')"
   ]
  },
  {
   "cell_type": "code",
   "execution_count": 118,
   "id": "4294e102",
   "metadata": {},
   "outputs": [
    {
     "data": {
      "text/html": [
       "<div>\n",
       "<style scoped>\n",
       "    .dataframe tbody tr th:only-of-type {\n",
       "        vertical-align: middle;\n",
       "    }\n",
       "\n",
       "    .dataframe tbody tr th {\n",
       "        vertical-align: top;\n",
       "    }\n",
       "\n",
       "    .dataframe thead th {\n",
       "        text-align: right;\n",
       "    }\n",
       "</style>\n",
       "<table border=\"1\" class=\"dataframe\">\n",
       "  <thead>\n",
       "    <tr style=\"text-align: right;\">\n",
       "      <th></th>\n",
       "      <th>Номер терминала</th>\n",
       "      <th>Номер мерчанта</th>\n",
       "      <th>Наименование ТСТ</th>\n",
       "      <th>Дата операции</th>\n",
       "    </tr>\n",
       "  </thead>\n",
       "  <tbody>\n",
       "    <tr>\n",
       "      <th>0</th>\n",
       "      <td>21604723</td>\n",
       "      <td>781000094404</td>\n",
       "      <td>1</td>\n",
       "      <td>1</td>\n",
       "    </tr>\n",
       "    <tr>\n",
       "      <th>1</th>\n",
       "      <td>21604724</td>\n",
       "      <td>781000094404</td>\n",
       "      <td>1</td>\n",
       "      <td>1</td>\n",
       "    </tr>\n",
       "    <tr>\n",
       "      <th>2</th>\n",
       "      <td>21604725</td>\n",
       "      <td>781000094404</td>\n",
       "      <td>1</td>\n",
       "      <td>1</td>\n",
       "    </tr>\n",
       "    <tr>\n",
       "      <th>3</th>\n",
       "      <td>21604726</td>\n",
       "      <td>781000094404</td>\n",
       "      <td>1</td>\n",
       "      <td>1</td>\n",
       "    </tr>\n",
       "    <tr>\n",
       "      <th>4</th>\n",
       "      <td>21604728</td>\n",
       "      <td>781000094404</td>\n",
       "      <td>1</td>\n",
       "      <td>1</td>\n",
       "    </tr>\n",
       "  </tbody>\n",
       "</table>\n",
       "</div>"
      ],
      "text/plain": [
       "  Номер терминала Номер мерчанта  Наименование ТСТ  Дата операции\n",
       "0        21604723   781000094404                 1              1\n",
       "1        21604724   781000094404                 1              1\n",
       "2        21604725   781000094404                 1              1\n",
       "3        21604726   781000094404                 1              1\n",
       "4        21604728   781000094404                 1              1"
      ]
     },
     "execution_count": 118,
     "metadata": {},
     "output_type": "execute_result"
    }
   ],
   "source": [
    "group_et_df.head()"
   ]
  },
  {
   "cell_type": "code",
   "execution_count": null,
   "id": "e507bea2",
   "metadata": {},
   "outputs": [],
   "source": []
  }
 ],
 "metadata": {
  "kernelspec": {
   "display_name": "Python 3 (ipykernel)",
   "language": "python",
   "name": "python3"
  },
  "language_info": {
   "codemirror_mode": {
    "name": "ipython",
    "version": 3
   },
   "file_extension": ".py",
   "mimetype": "text/x-python",
   "name": "python",
   "nbconvert_exporter": "python",
   "pygments_lexer": "ipython3",
   "version": "3.11.5"
  }
 },
 "nbformat": 4,
 "nbformat_minor": 5
}
