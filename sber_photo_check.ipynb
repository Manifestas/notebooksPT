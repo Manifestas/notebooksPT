{
 "cells": [
  {
   "cell_type": "code",
   "execution_count": 1,
   "id": "e570982b",
   "metadata": {},
   "outputs": [],
   "source": [
    "import os\n",
    "import os.path\n",
    "\n",
    "\n",
    "def get_files(target_dir):\n",
    "    item_list = os.listdir(target_dir)\n",
    "\n",
    "    file_list = list()\n",
    "    for item in item_list:\n",
    "        item_dir = os.path.join(target_dir,item)\n",
    "        if os.path.isdir(item_dir):\n",
    "            file_list += get_files(item_dir)\n",
    "        else:\n",
    "            file_list.append(item_dir)\n",
    "    return file_list"
   ]
  },
  {
   "cell_type": "code",
   "execution_count": 22,
   "id": "1509d4f2",
   "metadata": {},
   "outputs": [
    {
     "data": {
      "text/html": [
       "<div>\n",
       "<style scoped>\n",
       "    .dataframe tbody tr th:only-of-type {\n",
       "        vertical-align: middle;\n",
       "    }\n",
       "\n",
       "    .dataframe tbody tr th {\n",
       "        vertical-align: top;\n",
       "    }\n",
       "\n",
       "    .dataframe thead th {\n",
       "        text-align: right;\n",
       "    }\n",
       "</style>\n",
       "<table border=\"1\" class=\"dataframe\">\n",
       "  <thead>\n",
       "    <tr style=\"text-align: right;\">\n",
       "      <th></th>\n",
       "      <th>0</th>\n",
       "    </tr>\n",
       "  </thead>\n",
       "  <tbody>\n",
       "    <tr>\n",
       "      <th>0</th>\n",
       "      <td>C:\\Users\\ms\\Desktop\\sberPhoto\\1\\photo_2023-11-...</td>\n",
       "    </tr>\n",
       "    <tr>\n",
       "      <th>1</th>\n",
       "      <td>C:\\Users\\ms\\Desktop\\sberPhoto\\1\\photo_2023-11-...</td>\n",
       "    </tr>\n",
       "    <tr>\n",
       "      <th>2</th>\n",
       "      <td>C:\\Users\\ms\\Desktop\\sberPhoto\\1\\photo_2023-11-...</td>\n",
       "    </tr>\n",
       "    <tr>\n",
       "      <th>3</th>\n",
       "      <td>C:\\Users\\ms\\Desktop\\sberPhoto\\1\\photo_2023-11-...</td>\n",
       "    </tr>\n",
       "    <tr>\n",
       "      <th>4</th>\n",
       "      <td>C:\\Users\\ms\\Desktop\\sberPhoto\\1\\photo_2023-11-...</td>\n",
       "    </tr>\n",
       "  </tbody>\n",
       "</table>\n",
       "</div>"
      ],
      "text/plain": [
       "                                                   0\n",
       "0  C:\\Users\\ms\\Desktop\\sberPhoto\\1\\photo_2023-11-...\n",
       "1  C:\\Users\\ms\\Desktop\\sberPhoto\\1\\photo_2023-11-...\n",
       "2  C:\\Users\\ms\\Desktop\\sberPhoto\\1\\photo_2023-11-...\n",
       "3  C:\\Users\\ms\\Desktop\\sberPhoto\\1\\photo_2023-11-...\n",
       "4  C:\\Users\\ms\\Desktop\\sberPhoto\\1\\photo_2023-11-..."
      ]
     },
     "execution_count": 22,
     "metadata": {},
     "output_type": "execute_result"
    }
   ],
   "source": [
    "import pandas as pd\n",
    "df = pd.DataFrame(get_files(r'C:\\Users\\ms\\Desktop\\sberPhoto'))\n",
    "df.head()"
   ]
  },
  {
   "cell_type": "code",
   "execution_count": 23,
   "id": "133b8b97",
   "metadata": {},
   "outputs": [],
   "source": [
    "df.columns[0]\n",
    "df['folder'] = df[0].str.split('\\\\').str[5]\n",
    "df['file'] = df[0].str.split('\\\\').str[6]\n",
    "#df[['V','allele']] = df['V'].str.split('-',expand=True)"
   ]
  },
  {
   "cell_type": "code",
   "execution_count": 24,
   "id": "f663761f",
   "metadata": {},
   "outputs": [
    {
     "data": {
      "text/html": [
       "<div>\n",
       "<style scoped>\n",
       "    .dataframe tbody tr th:only-of-type {\n",
       "        vertical-align: middle;\n",
       "    }\n",
       "\n",
       "    .dataframe tbody tr th {\n",
       "        vertical-align: top;\n",
       "    }\n",
       "\n",
       "    .dataframe thead th {\n",
       "        text-align: right;\n",
       "    }\n",
       "</style>\n",
       "<table border=\"1\" class=\"dataframe\">\n",
       "  <thead>\n",
       "    <tr style=\"text-align: right;\">\n",
       "      <th></th>\n",
       "      <th>0</th>\n",
       "      <th>folder</th>\n",
       "      <th>file</th>\n",
       "    </tr>\n",
       "  </thead>\n",
       "  <tbody>\n",
       "    <tr>\n",
       "      <th>0</th>\n",
       "      <td>C:\\Users\\ms\\Desktop\\sberPhoto\\1\\photo_2023-11-...</td>\n",
       "      <td>1</td>\n",
       "      <td>photo_2023-11-16_11-36-20.jpg</td>\n",
       "    </tr>\n",
       "    <tr>\n",
       "      <th>1</th>\n",
       "      <td>C:\\Users\\ms\\Desktop\\sberPhoto\\1\\photo_2023-11-...</td>\n",
       "      <td>1</td>\n",
       "      <td>photo_2023-11-16_11-36-21 (2).jpg</td>\n",
       "    </tr>\n",
       "    <tr>\n",
       "      <th>2</th>\n",
       "      <td>C:\\Users\\ms\\Desktop\\sberPhoto\\1\\photo_2023-11-...</td>\n",
       "      <td>1</td>\n",
       "      <td>photo_2023-11-16_11-36-21.jpg</td>\n",
       "    </tr>\n",
       "    <tr>\n",
       "      <th>3</th>\n",
       "      <td>C:\\Users\\ms\\Desktop\\sberPhoto\\1\\photo_2023-11-...</td>\n",
       "      <td>1</td>\n",
       "      <td>photo_2023-11-16_11-36-22 (2).jpg</td>\n",
       "    </tr>\n",
       "    <tr>\n",
       "      <th>4</th>\n",
       "      <td>C:\\Users\\ms\\Desktop\\sberPhoto\\1\\photo_2023-11-...</td>\n",
       "      <td>1</td>\n",
       "      <td>photo_2023-11-16_11-36-22 (3).jpg</td>\n",
       "    </tr>\n",
       "  </tbody>\n",
       "</table>\n",
       "</div>"
      ],
      "text/plain": [
       "                                                   0 folder  \\\n",
       "0  C:\\Users\\ms\\Desktop\\sberPhoto\\1\\photo_2023-11-...      1   \n",
       "1  C:\\Users\\ms\\Desktop\\sberPhoto\\1\\photo_2023-11-...      1   \n",
       "2  C:\\Users\\ms\\Desktop\\sberPhoto\\1\\photo_2023-11-...      1   \n",
       "3  C:\\Users\\ms\\Desktop\\sberPhoto\\1\\photo_2023-11-...      1   \n",
       "4  C:\\Users\\ms\\Desktop\\sberPhoto\\1\\photo_2023-11-...      1   \n",
       "\n",
       "                                file  \n",
       "0      photo_2023-11-16_11-36-20.jpg  \n",
       "1  photo_2023-11-16_11-36-21 (2).jpg  \n",
       "2      photo_2023-11-16_11-36-21.jpg  \n",
       "3  photo_2023-11-16_11-36-22 (2).jpg  \n",
       "4  photo_2023-11-16_11-36-22 (3).jpg  "
      ]
     },
     "execution_count": 24,
     "metadata": {},
     "output_type": "execute_result"
    }
   ],
   "source": [
    "df.head()"
   ]
  },
  {
   "cell_type": "code",
   "execution_count": 25,
   "id": "eee368a9",
   "metadata": {},
   "outputs": [],
   "source": [
    "df.to_excel('flist.xlsx')"
   ]
  },
  {
   "cell_type": "code",
   "execution_count": 14,
   "id": "74a92c4b",
   "metadata": {},
   "outputs": [],
   "source": [
    "year = pd.read_excel('temp.xlsx')"
   ]
  },
  {
   "cell_type": "code",
   "execution_count": 15,
   "id": "4be6eed1",
   "metadata": {},
   "outputs": [
    {
     "name": "stdout",
     "output_type": "stream",
     "text": [
      "<class 'pandas.core.frame.DataFrame'>\n",
      "RangeIndex: 118 entries, 0 to 117\n",
      "Data columns (total 2 columns):\n",
      " #   Column  Non-Null Count  Dtype\n",
      "---  ------  --------------  -----\n",
      " 0   number  118 non-null    int64\n",
      " 1   year    118 non-null    int64\n",
      "dtypes: int64(2)\n",
      "memory usage: 2.0 KB\n"
     ]
    }
   ],
   "source": [
    "year.info()"
   ]
  },
  {
   "cell_type": "code",
   "execution_count": 19,
   "id": "848fa4b3",
   "metadata": {},
   "outputs": [],
   "source": [
    "year[[\"number\", \"year\"]] = year[[\"number\", \"year\"]].astype(str)"
   ]
  },
  {
   "cell_type": "code",
   "execution_count": 20,
   "id": "00b530fe",
   "metadata": {},
   "outputs": [
    {
     "name": "stdout",
     "output_type": "stream",
     "text": [
      "<class 'pandas.core.frame.DataFrame'>\n",
      "RangeIndex: 118 entries, 0 to 117\n",
      "Data columns (total 2 columns):\n",
      " #   Column  Non-Null Count  Dtype \n",
      "---  ------  --------------  ----- \n",
      " 0   number  118 non-null    object\n",
      " 1   year    118 non-null    object\n",
      "dtypes: object(2)\n",
      "memory usage: 2.0+ KB\n"
     ]
    }
   ],
   "source": [
    "year.info()"
   ]
  },
  {
   "cell_type": "code",
   "execution_count": 21,
   "id": "78d54beb",
   "metadata": {},
   "outputs": [],
   "source": [
    "year.to_excel('temp_str.xlsx')"
   ]
  },
  {
   "cell_type": "code",
   "execution_count": null,
   "id": "fd64cf1f",
   "metadata": {},
   "outputs": [],
   "source": []
  }
 ],
 "metadata": {
  "kernelspec": {
   "display_name": "Python 3 (ipykernel)",
   "language": "python",
   "name": "python3"
  },
  "language_info": {
   "codemirror_mode": {
    "name": "ipython",
    "version": 3
   },
   "file_extension": ".py",
   "mimetype": "text/x-python",
   "name": "python",
   "nbconvert_exporter": "python",
   "pygments_lexer": "ipython3",
   "version": "3.11.5"
  }
 },
 "nbformat": 4,
 "nbformat_minor": 5
}
