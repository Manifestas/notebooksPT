{
 "cells": [
  {
   "attachments": {
    "image.png": {
     "image/png": "[encoded data removed]"
    }
   },
   "cell_type": "markdown",
   "id": "4bbc4851",
   "metadata": {},
   "source": [
    "![image.png](attachment:image.png)"
   ]
  },
  {
   "cell_type": "code",
   "execution_count": 1,
   "id": "85dffc5d",
   "metadata": {},
   "outputs": [],
   "source": [
    "import pandas as pd\n",
    "import numpy as np\n",
    "import datetime\n",
    "import xlrd"
   ]
  },
  {
   "cell_type": "code",
   "execution_count": 47,
   "id": "21f90c6e",
   "metadata": {},
   "outputs": [],
   "source": [
    "workbook = xlrd.open_workbook('receipts1701.xls', encoding_override=\"cp1251\")\n",
    "receipts = pd.read_excel(workbook,\n",
    "                         skiprows=1,\n",
    "                         usecols=[0, 1, 2, 5, 10, 16, 23, 24],\n",
    "                         names=['deleted',\n",
    "                                'number',\n",
    "                                'date',\n",
    "                                'sum',\n",
    "                                'tt',\n",
    "                                'beznal_sum',\n",
    "                                'fp_date',\n",
    "                                'create_date'],\n",
    "                         dtype={'number': str, 'sum': int})"
   ]
  },
  {
   "cell_type": "code",
   "execution_count": 48,
   "id": "3a22222b",
   "metadata": {},
   "outputs": [
    {
     "name": "stdout",
     "output_type": "stream",
     "text": [
      "<class 'pandas.core.frame.DataFrame'>\n",
      "RangeIndex: 6400 entries, 0 to 6399\n",
      "Data columns (total 8 columns):\n",
      " #   Column       Non-Null Count  Dtype  \n",
      "---  ------       --------------  -----  \n",
      " 0   deleted      6400 non-null   int64  \n",
      " 1   number       6400 non-null   object \n",
      " 2   date         6400 non-null   object \n",
      " 3   sum          6400 non-null   int32  \n",
      " 4   tt           6400 non-null   object \n",
      " 5   beznal_sum   6400 non-null   float64\n",
      " 6   fp_date      6400 non-null   object \n",
      " 7   create_date  6400 non-null   object \n",
      "dtypes: float64(1), int32(1), int64(1), object(5)\n",
      "memory usage: 375.1+ KB\n"
     ]
    }
   ],
   "source": [
    "receipts.info()"
   ]
  },
  {
   "cell_type": "code",
   "execution_count": 9,
   "id": "3d77137e",
   "metadata": {},
   "outputs": [],
   "source": [
    "#receipts['date'] = pd.to_datetime(receipts['date'], format='%d.%m.%Y %H:%M:%S').astype('str')"
   ]
  },
  {
   "cell_type": "code",
   "execution_count": 50,
   "id": "cee4ee00",
   "metadata": {},
   "outputs": [],
   "source": [
    "receipts['date'] = receipts['date'].str[:-4] #удалить секунды и минуты"
   ]
  },
  {
   "cell_type": "code",
   "execution_count": 51,
   "id": "04910af4",
   "metadata": {},
   "outputs": [
    {
     "data": {
      "text/html": [
       "<div>\n",
       "<style scoped>\n",
       "    .dataframe tbody tr th:only-of-type {\n",
       "        vertical-align: middle;\n",
       "    }\n",
       "\n",
       "    .dataframe tbody tr th {\n",
       "        vertical-align: top;\n",
       "    }\n",
       "\n",
       "    .dataframe thead th {\n",
       "        text-align: right;\n",
       "    }\n",
       "</style>\n",
       "<table border=\"1\" class=\"dataframe\">\n",
       "  <thead>\n",
       "    <tr style=\"text-align: right;\">\n",
       "      <th></th>\n",
       "      <th>deleted</th>\n",
       "      <th>number</th>\n",
       "      <th>date</th>\n",
       "      <th>sum</th>\n",
       "      <th>tt</th>\n",
       "      <th>beznal_sum</th>\n",
       "      <th>fp_date</th>\n",
       "      <th>create_date</th>\n",
       "    </tr>\n",
       "  </thead>\n",
       "  <tbody>\n",
       "    <tr>\n",
       "      <th>0</th>\n",
       "      <td>0</td>\n",
       "      <td>8169295.0</td>\n",
       "      <td>17.01.2024 0:01</td>\n",
       "      <td>100</td>\n",
       "      <td>ТАСС АВ 0148</td>\n",
       "      <td>0.0</td>\n",
       "      <td>17.01.2024</td>\n",
       "      <td>17.01.2024 0:01:48</td>\n",
       "    </tr>\n",
       "    <tr>\n",
       "      <th>1</th>\n",
       "      <td>0</td>\n",
       "      <td>8169296.0</td>\n",
       "      <td>17.01.2024 0:02</td>\n",
       "      <td>200</td>\n",
       "      <td>АВ - Таганская 0205</td>\n",
       "      <td>0.0</td>\n",
       "      <td>17.01.2024 0:01:00</td>\n",
       "      <td>17.01.2024 0:02:15</td>\n",
       "    </tr>\n",
       "    <tr>\n",
       "      <th>2</th>\n",
       "      <td>0</td>\n",
       "      <td>8169297.0</td>\n",
       "      <td>17.01.2024 0:02</td>\n",
       "      <td>200</td>\n",
       "      <td>АВ - Жулебинский б-р  0182</td>\n",
       "      <td>200.0</td>\n",
       "      <td>17.01.2024 0:01:00</td>\n",
       "      <td>17.01.2024 0:02:22</td>\n",
       "    </tr>\n",
       "    <tr>\n",
       "      <th>3</th>\n",
       "      <td>0</td>\n",
       "      <td>8169298.0</td>\n",
       "      <td>17.01.2024 0:05</td>\n",
       "      <td>170</td>\n",
       "      <td>МЦД 3 Ховрино ТПУ ШК 1й путь 3101</td>\n",
       "      <td>170.0</td>\n",
       "      <td>17.01.2024 0:04:00</td>\n",
       "      <td>17.01.2024 0:05:48</td>\n",
       "    </tr>\n",
       "    <tr>\n",
       "      <th>4</th>\n",
       "      <td>0</td>\n",
       "      <td>8169299.0</td>\n",
       "      <td>17.01.2024 0:05</td>\n",
       "      <td>150</td>\n",
       "      <td>МЦК КХ Ботанич.сад ост.0316</td>\n",
       "      <td>150.0</td>\n",
       "      <td>17.01.2024 0:04:00</td>\n",
       "      <td>17.01.2024 0:05:49</td>\n",
       "    </tr>\n",
       "  </tbody>\n",
       "</table>\n",
       "</div>"
      ],
      "text/plain": [
       "   deleted     number             date  sum  \\\n",
       "0        0  8169295.0  17.01.2024 0:01  100   \n",
       "1        0  8169296.0  17.01.2024 0:02  200   \n",
       "2        0  8169297.0  17.01.2024 0:02  200   \n",
       "3        0  8169298.0  17.01.2024 0:05  170   \n",
       "4        0  8169299.0  17.01.2024 0:05  150   \n",
       "\n",
       "                                  tt  beznal_sum             fp_date  \\\n",
       "0                       ТАСС АВ 0148         0.0          17.01.2024   \n",
       "1                АВ - Таганская 0205         0.0  17.01.2024 0:01:00   \n",
       "2         АВ - Жулебинский б-р  0182       200.0  17.01.2024 0:01:00   \n",
       "3  МЦД 3 Ховрино ТПУ ШК 1й путь 3101       170.0  17.01.2024 0:04:00   \n",
       "4        МЦК КХ Ботанич.сад ост.0316       150.0  17.01.2024 0:04:00   \n",
       "\n",
       "          create_date  \n",
       "0  17.01.2024 0:01:48  \n",
       "1  17.01.2024 0:02:15  \n",
       "2  17.01.2024 0:02:22  \n",
       "3  17.01.2024 0:05:48  \n",
       "4  17.01.2024 0:05:49  "
      ]
     },
     "execution_count": 51,
     "metadata": {},
     "output_type": "execute_result"
    }
   ],
   "source": [
    "receipts.head()"
   ]
  },
  {
   "cell_type": "code",
   "execution_count": 60,
   "id": "cbe1d7bb",
   "metadata": {},
   "outputs": [
    {
     "data": {
      "text/html": [
       "<div>\n",
       "<style scoped>\n",
       "    .dataframe tbody tr th:only-of-type {\n",
       "        vertical-align: middle;\n",
       "    }\n",
       "\n",
       "    .dataframe tbody tr th {\n",
       "        vertical-align: top;\n",
       "    }\n",
       "\n",
       "    .dataframe thead th {\n",
       "        text-align: right;\n",
       "    }\n",
       "</style>\n",
       "<table border=\"1\" class=\"dataframe\">\n",
       "  <thead>\n",
       "    <tr style=\"text-align: right;\">\n",
       "      <th></th>\n",
       "      <th>deleted</th>\n",
       "      <th>number</th>\n",
       "      <th>date</th>\n",
       "      <th>sum</th>\n",
       "      <th>tt</th>\n",
       "      <th>beznal_sum</th>\n",
       "      <th>fp_date</th>\n",
       "      <th>create_date</th>\n",
       "    </tr>\n",
       "  </thead>\n",
       "  <tbody>\n",
       "    <tr>\n",
       "      <th>693</th>\n",
       "      <td>0</td>\n",
       "      <td>8169987.0</td>\n",
       "      <td>17.01.2024 7:57</td>\n",
       "      <td>110</td>\n",
       "      <td>МЦК КХ Деловой центр 0388</td>\n",
       "      <td>110.0</td>\n",
       "      <td>17.01.2024 7:56:00</td>\n",
       "      <td>17.01.2024 7:57:36</td>\n",
       "    </tr>\n",
       "    <tr>\n",
       "      <th>1748</th>\n",
       "      <td>0</td>\n",
       "      <td>8171033.0</td>\n",
       "      <td>17.01.2024 9:36</td>\n",
       "      <td>110</td>\n",
       "      <td>МЦК КХ Деловой центр 0388</td>\n",
       "      <td>110.0</td>\n",
       "      <td>17.01.2024 9:35:00</td>\n",
       "      <td>17.01.2024 9:36:40</td>\n",
       "    </tr>\n",
       "    <tr>\n",
       "      <th>2130</th>\n",
       "      <td>0</td>\n",
       "      <td>8171426.0</td>\n",
       "      <td>17.01.2024 10:17</td>\n",
       "      <td>90</td>\n",
       "      <td>МЦК КХ Деловой центр 0388</td>\n",
       "      <td>90.0</td>\n",
       "      <td>17.01.2024 10:17:00</td>\n",
       "      <td>17.01.2024 10:18:05</td>\n",
       "    </tr>\n",
       "    <tr>\n",
       "      <th>3096</th>\n",
       "      <td>0</td>\n",
       "      <td>8172385.0</td>\n",
       "      <td>17.01.2024 12:30</td>\n",
       "      <td>100</td>\n",
       "      <td>МЦК КХ Деловой центр 0388</td>\n",
       "      <td>100.0</td>\n",
       "      <td>17.01.2024 12:29:00</td>\n",
       "      <td>17.01.2024 12:30:46</td>\n",
       "    </tr>\n",
       "    <tr>\n",
       "      <th>3865</th>\n",
       "      <td>0</td>\n",
       "      <td>8173162.0</td>\n",
       "      <td>17.01.2024 14:17</td>\n",
       "      <td>100</td>\n",
       "      <td>МЦК КХ Деловой центр 0388</td>\n",
       "      <td>100.0</td>\n",
       "      <td>17.01.2024 14:17:00</td>\n",
       "      <td>17.01.2024 14:17:54</td>\n",
       "    </tr>\n",
       "    <tr>\n",
       "      <th>4128</th>\n",
       "      <td>0</td>\n",
       "      <td>8173423.0</td>\n",
       "      <td>17.01.2024 14:55</td>\n",
       "      <td>110</td>\n",
       "      <td>МЦК КХ Деловой центр 0388</td>\n",
       "      <td>110.0</td>\n",
       "      <td>17.01.2024 14:54:00</td>\n",
       "      <td>17.01.2024 14:55:26</td>\n",
       "    </tr>\n",
       "    <tr>\n",
       "      <th>4186</th>\n",
       "      <td>0</td>\n",
       "      <td>8173479.0</td>\n",
       "      <td>17.01.2024 15:04</td>\n",
       "      <td>150</td>\n",
       "      <td>МЦК КХ Деловой центр 0388</td>\n",
       "      <td>150.0</td>\n",
       "      <td>17.01.2024 15:03:00</td>\n",
       "      <td>17.01.2024 15:04:20</td>\n",
       "    </tr>\n",
       "    <tr>\n",
       "      <th>4341</th>\n",
       "      <td>0</td>\n",
       "      <td>8173635.0</td>\n",
       "      <td>17.01.2024 15:27</td>\n",
       "      <td>150</td>\n",
       "      <td>МЦК КХ Деловой центр 0388</td>\n",
       "      <td>150.0</td>\n",
       "      <td>17.01.2024 15:26:00</td>\n",
       "      <td>17.01.2024 15:27:56</td>\n",
       "    </tr>\n",
       "    <tr>\n",
       "      <th>4542</th>\n",
       "      <td>0</td>\n",
       "      <td>8173837.0</td>\n",
       "      <td>17.01.2024 15:57</td>\n",
       "      <td>150</td>\n",
       "      <td>МЦК КХ Деловой центр 0388</td>\n",
       "      <td>150.0</td>\n",
       "      <td>17.01.2024 15:57:00</td>\n",
       "      <td>17.01.2024 15:58:00</td>\n",
       "    </tr>\n",
       "    <tr>\n",
       "      <th>4588</th>\n",
       "      <td>0</td>\n",
       "      <td>8173882.0</td>\n",
       "      <td>17.01.2024 16:06</td>\n",
       "      <td>100</td>\n",
       "      <td>МЦК КХ Деловой центр 0388</td>\n",
       "      <td>100.0</td>\n",
       "      <td>17.01.2024 16:06:00</td>\n",
       "      <td>17.01.2024 16:07:00</td>\n",
       "    </tr>\n",
       "    <tr>\n",
       "      <th>5333</th>\n",
       "      <td>0</td>\n",
       "      <td>8174627.0</td>\n",
       "      <td>17.01.2024 18:25</td>\n",
       "      <td>110</td>\n",
       "      <td>МЦК КХ Деловой центр 0388</td>\n",
       "      <td>110.0</td>\n",
       "      <td>17.01.2024 18:25:00</td>\n",
       "      <td>17.01.2024 18:26:01</td>\n",
       "    </tr>\n",
       "    <tr>\n",
       "      <th>5672</th>\n",
       "      <td>0</td>\n",
       "      <td>8174968.0</td>\n",
       "      <td>17.01.2024 19:38</td>\n",
       "      <td>110</td>\n",
       "      <td>МЦК КХ Деловой центр 0388</td>\n",
       "      <td>110.0</td>\n",
       "      <td>17.01.2024 19:37:00</td>\n",
       "      <td>17.01.2024 19:38:18</td>\n",
       "    </tr>\n",
       "    <tr>\n",
       "      <th>5885</th>\n",
       "      <td>0</td>\n",
       "      <td>8175180.0</td>\n",
       "      <td>17.01.2024 20:25</td>\n",
       "      <td>110</td>\n",
       "      <td>МЦК КХ Деловой центр 0388</td>\n",
       "      <td>110.0</td>\n",
       "      <td>17.01.2024 20:24:00</td>\n",
       "      <td>17.01.2024 20:25:44</td>\n",
       "    </tr>\n",
       "    <tr>\n",
       "      <th>6110</th>\n",
       "      <td>0</td>\n",
       "      <td>8175406.0</td>\n",
       "      <td>17.01.2024 21:24</td>\n",
       "      <td>150</td>\n",
       "      <td>МЦК КХ Деловой центр 0388</td>\n",
       "      <td>150.0</td>\n",
       "      <td>17.01.2024 21:24:00</td>\n",
       "      <td>17.01.2024 21:24:58</td>\n",
       "    </tr>\n",
       "    <tr>\n",
       "      <th>6203</th>\n",
       "      <td>0</td>\n",
       "      <td>8175499.0</td>\n",
       "      <td>17.01.2024 22:02</td>\n",
       "      <td>80</td>\n",
       "      <td>МЦК КХ Деловой центр 0388</td>\n",
       "      <td>80.0</td>\n",
       "      <td>17.01.2024 22:01:00</td>\n",
       "      <td>17.01.2024 22:02:56</td>\n",
       "    </tr>\n",
       "    <tr>\n",
       "      <th>6236</th>\n",
       "      <td>0</td>\n",
       "      <td>8175530.0</td>\n",
       "      <td>17.01.2024 22:23</td>\n",
       "      <td>110</td>\n",
       "      <td>МЦК КХ Деловой центр 0388</td>\n",
       "      <td>110.0</td>\n",
       "      <td>17.01.2024 22:23:00</td>\n",
       "      <td>17.01.2024 22:23:59</td>\n",
       "    </tr>\n",
       "  </tbody>\n",
       "</table>\n",
       "</div>"
      ],
      "text/plain": [
       "      deleted     number              date  sum                         tt  \\\n",
       "693         0  8169987.0   17.01.2024 7:57  110  МЦК КХ Деловой центр 0388   \n",
       "1748        0  8171033.0   17.01.2024 9:36  110  МЦК КХ Деловой центр 0388   \n",
       "2130        0  8171426.0  17.01.2024 10:17   90  МЦК КХ Деловой центр 0388   \n",
       "3096        0  8172385.0  17.01.2024 12:30  100  МЦК КХ Деловой центр 0388   \n",
       "3865        0  8173162.0  17.01.2024 14:17  100  МЦК КХ Деловой центр 0388   \n",
       "4128        0  8173423.0  17.01.2024 14:55  110  МЦК КХ Деловой центр 0388   \n",
       "4186        0  8173479.0  17.01.2024 15:04  150  МЦК КХ Деловой центр 0388   \n",
       "4341        0  8173635.0  17.01.2024 15:27  150  МЦК КХ Деловой центр 0388   \n",
       "4542        0  8173837.0  17.01.2024 15:57  150  МЦК КХ Деловой центр 0388   \n",
       "4588        0  8173882.0  17.01.2024 16:06  100  МЦК КХ Деловой центр 0388   \n",
       "5333        0  8174627.0  17.01.2024 18:25  110  МЦК КХ Деловой центр 0388   \n",
       "5672        0  8174968.0  17.01.2024 19:38  110  МЦК КХ Деловой центр 0388   \n",
       "5885        0  8175180.0  17.01.2024 20:25  110  МЦК КХ Деловой центр 0388   \n",
       "6110        0  8175406.0  17.01.2024 21:24  150  МЦК КХ Деловой центр 0388   \n",
       "6203        0  8175499.0  17.01.2024 22:02   80  МЦК КХ Деловой центр 0388   \n",
       "6236        0  8175530.0  17.01.2024 22:23  110  МЦК КХ Деловой центр 0388   \n",
       "\n",
       "      beznal_sum              fp_date          create_date  \n",
       "693        110.0   17.01.2024 7:56:00   17.01.2024 7:57:36  \n",
       "1748       110.0   17.01.2024 9:35:00   17.01.2024 9:36:40  \n",
       "2130        90.0  17.01.2024 10:17:00  17.01.2024 10:18:05  \n",
       "3096       100.0  17.01.2024 12:29:00  17.01.2024 12:30:46  \n",
       "3865       100.0  17.01.2024 14:17:00  17.01.2024 14:17:54  \n",
       "4128       110.0  17.01.2024 14:54:00  17.01.2024 14:55:26  \n",
       "4186       150.0  17.01.2024 15:03:00  17.01.2024 15:04:20  \n",
       "4341       150.0  17.01.2024 15:26:00  17.01.2024 15:27:56  \n",
       "4542       150.0  17.01.2024 15:57:00  17.01.2024 15:58:00  \n",
       "4588       100.0  17.01.2024 16:06:00  17.01.2024 16:07:00  \n",
       "5333       110.0  17.01.2024 18:25:00  17.01.2024 18:26:01  \n",
       "5672       110.0  17.01.2024 19:37:00  17.01.2024 19:38:18  \n",
       "5885       110.0  17.01.2024 20:24:00  17.01.2024 20:25:44  \n",
       "6110       150.0  17.01.2024 21:24:00  17.01.2024 21:24:58  \n",
       "6203        80.0  17.01.2024 22:01:00  17.01.2024 22:02:56  \n",
       "6236       110.0  17.01.2024 22:23:00  17.01.2024 22:23:59  "
      ]
     },
     "execution_count": 60,
     "metadata": {},
     "output_type": "execute_result"
    }
   ],
   "source": [
    "receipts[receipts['tt'] == 'МЦК КХ Деловой центр 0388']"
   ]
  },
  {
   "cell_type": "code",
   "execution_count": 48,
   "id": "0d7acc44",
   "metadata": {},
   "outputs": [],
   "source": [
    "#df = receipts.groupby([receipts['receipt_date'].dt.date, 'tt'])"
   ]
  },
  {
   "cell_type": "code",
   "execution_count": 53,
   "id": "75b89d61",
   "metadata": {},
   "outputs": [],
   "source": [
    "#df = df['sum'].sum().reset_index()"
   ]
  },
  {
   "cell_type": "code",
   "execution_count": 114,
   "id": "553a863f",
   "metadata": {},
   "outputs": [
    {
     "data": {
      "text/html": [
       "<div>\n",
       "<style scoped>\n",
       "    .dataframe tbody tr th:only-of-type {\n",
       "        vertical-align: middle;\n",
       "    }\n",
       "\n",
       "    .dataframe tbody tr th {\n",
       "        vertical-align: top;\n",
       "    }\n",
       "\n",
       "    .dataframe thead th {\n",
       "        text-align: right;\n",
       "    }\n",
       "</style>\n",
       "<table border=\"1\" class=\"dataframe\">\n",
       "  <thead>\n",
       "    <tr style=\"text-align: right;\">\n",
       "      <th></th>\n",
       "      <th>receipt_date</th>\n",
       "      <th>tt</th>\n",
       "      <th>sum</th>\n",
       "    </tr>\n",
       "  </thead>\n",
       "  <tbody>\n",
       "    <tr>\n",
       "      <th>0</th>\n",
       "      <td>2024-01-11</td>\n",
       "      <td>INDANCE-КХ 0165</td>\n",
       "      <td>1300.0</td>\n",
       "    </tr>\n",
       "    <tr>\n",
       "      <th>1</th>\n",
       "      <td>2024-01-11</td>\n",
       "      <td>Russia Today-АВ 0436</td>\n",
       "      <td>2750.0</td>\n",
       "    </tr>\n",
       "    <tr>\n",
       "      <th>2</th>\n",
       "      <td>2024-01-11</td>\n",
       "      <td>Russia Today-ШК 0435</td>\n",
       "      <td>8195.0</td>\n",
       "    </tr>\n",
       "    <tr>\n",
       "      <th>3</th>\n",
       "      <td>2024-01-11</td>\n",
       "      <td>АВ - Арбат 0185</td>\n",
       "      <td>1250.0</td>\n",
       "    </tr>\n",
       "    <tr>\n",
       "      <th>4</th>\n",
       "      <td>2024-01-11</td>\n",
       "      <td>АВ - Варшаское шоссе 0181</td>\n",
       "      <td>3650.0</td>\n",
       "    </tr>\n",
       "  </tbody>\n",
       "</table>\n",
       "</div>"
      ],
      "text/plain": [
       "  receipt_date                         tt     sum\n",
       "0   2024-01-11            INDANCE-КХ 0165  1300.0\n",
       "1   2024-01-11       Russia Today-АВ 0436  2750.0\n",
       "2   2024-01-11       Russia Today-ШК 0435  8195.0\n",
       "3   2024-01-11            АВ - Арбат 0185  1250.0\n",
       "4   2024-01-11  АВ - Варшаское шоссе 0181  3650.0"
      ]
     },
     "execution_count": 114,
     "metadata": {},
     "output_type": "execute_result"
    }
   ],
   "source": [
    "#df.head()"
   ]
  },
  {
   "cell_type": "code",
   "execution_count": 52,
   "id": "510e1e6c",
   "metadata": {},
   "outputs": [],
   "source": [
    "report = pd.read_excel('report1701.xls',\n",
    "                         names=['date',\n",
    "                                'sum',\n",
    "                                'tt',\n",
    "                                'division'])"
   ]
  },
  {
   "cell_type": "code",
   "execution_count": 53,
   "id": "97b1616e",
   "metadata": {},
   "outputs": [
    {
     "name": "stdout",
     "output_type": "stream",
     "text": [
      "<class 'pandas.core.frame.DataFrame'>\n",
      "RangeIndex: 6422 entries, 0 to 6421\n",
      "Data columns (total 4 columns):\n",
      " #   Column    Non-Null Count  Dtype \n",
      "---  ------    --------------  ----- \n",
      " 0   date      6422 non-null   object\n",
      " 1   sum       6422 non-null   int64 \n",
      " 2   tt        6422 non-null   object\n",
      " 3   division  6422 non-null   object\n",
      "dtypes: int64(1), object(3)\n",
      "memory usage: 200.8+ KB\n"
     ]
    }
   ],
   "source": [
    "report.info()"
   ]
  },
  {
   "cell_type": "code",
   "execution_count": 54,
   "id": "f6543bc3",
   "metadata": {},
   "outputs": [],
   "source": [
    "report['date'] = report['date'].astype('str').str[:-4] #удалить секунды и минуты"
   ]
  },
  {
   "cell_type": "code",
   "execution_count": 55,
   "id": "d0cb3875",
   "metadata": {},
   "outputs": [
    {
     "data": {
      "text/html": [
       "<div>\n",
       "<style scoped>\n",
       "    .dataframe tbody tr th:only-of-type {\n",
       "        vertical-align: middle;\n",
       "    }\n",
       "\n",
       "    .dataframe tbody tr th {\n",
       "        vertical-align: top;\n",
       "    }\n",
       "\n",
       "    .dataframe thead th {\n",
       "        text-align: right;\n",
       "    }\n",
       "</style>\n",
       "<table border=\"1\" class=\"dataframe\">\n",
       "  <thead>\n",
       "    <tr style=\"text-align: right;\">\n",
       "      <th></th>\n",
       "      <th>date</th>\n",
       "      <th>sum</th>\n",
       "      <th>tt</th>\n",
       "      <th>division</th>\n",
       "    </tr>\n",
       "  </thead>\n",
       "  <tbody>\n",
       "    <tr>\n",
       "      <th>0</th>\n",
       "      <td>17.01.2024 0:01</td>\n",
       "      <td>100</td>\n",
       "      <td>ТАСС АВ 0148</td>\n",
       "      <td>Стритвенд</td>\n",
       "    </tr>\n",
       "    <tr>\n",
       "      <th>1</th>\n",
       "      <td>17.01.2024 0:02</td>\n",
       "      <td>200</td>\n",
       "      <td>АВ - Таганская 0205</td>\n",
       "      <td>Азбука Вкуса</td>\n",
       "    </tr>\n",
       "    <tr>\n",
       "      <th>2</th>\n",
       "      <td>17.01.2024 0:02</td>\n",
       "      <td>200</td>\n",
       "      <td>АВ - Жулебинский б-р  0182</td>\n",
       "      <td>Азбука Вкуса</td>\n",
       "    </tr>\n",
       "    <tr>\n",
       "      <th>3</th>\n",
       "      <td>17.01.2024 0:05</td>\n",
       "      <td>170</td>\n",
       "      <td>МЦД 3 Ховрино ТПУ ШК 1й путь 3101</td>\n",
       "      <td>МЦД-3</td>\n",
       "    </tr>\n",
       "    <tr>\n",
       "      <th>4</th>\n",
       "      <td>17.01.2024 0:05</td>\n",
       "      <td>150</td>\n",
       "      <td>МЦК КХ Ботанич.сад ост.0316</td>\n",
       "      <td>МЦК КХ</td>\n",
       "    </tr>\n",
       "  </tbody>\n",
       "</table>\n",
       "</div>"
      ],
      "text/plain": [
       "              date  sum                                 tt      division\n",
       "0  17.01.2024 0:01  100                       ТАСС АВ 0148     Стритвенд\n",
       "1  17.01.2024 0:02  200                АВ - Таганская 0205  Азбука Вкуса\n",
       "2  17.01.2024 0:02  200         АВ - Жулебинский б-р  0182  Азбука Вкуса\n",
       "3  17.01.2024 0:05  170  МЦД 3 Ховрино ТПУ ШК 1й путь 3101         МЦД-3\n",
       "4  17.01.2024 0:05  150        МЦК КХ Ботанич.сад ост.0316       МЦК КХ "
      ]
     },
     "execution_count": 55,
     "metadata": {},
     "output_type": "execute_result"
    }
   ],
   "source": [
    "report.head()"
   ]
  },
  {
   "cell_type": "code",
   "execution_count": 56,
   "id": "3d652a4f",
   "metadata": {},
   "outputs": [
    {
     "data": {
      "text/plain": [
       "771980"
      ]
     },
     "execution_count": 56,
     "metadata": {},
     "output_type": "execute_result"
    }
   ],
   "source": [
    "report['sum'].sum()"
   ]
  },
  {
   "cell_type": "code",
   "execution_count": 76,
   "id": "cdf86e00",
   "metadata": {},
   "outputs": [],
   "source": [
    "#report['datetime'] = pd.to_datetime(report['datetime'], format='%d.%m.%Y %H:%M:%S')"
   ]
  },
  {
   "cell_type": "code",
   "execution_count": 79,
   "id": "069216ed",
   "metadata": {},
   "outputs": [],
   "source": [
    "#report['date'] = report['datetime'].dt.strftime('%Y-%m-%d')"
   ]
  },
  {
   "cell_type": "code",
   "execution_count": 116,
   "id": "f0bcd7e3",
   "metadata": {},
   "outputs": [],
   "source": [
    "#report_group = report.groupby(['date', 'tt'])['sum'].sum().reset_index()"
   ]
  },
  {
   "cell_type": "code",
   "execution_count": 133,
   "id": "868a611e",
   "metadata": {},
   "outputs": [],
   "source": [
    "#df['sum'] = df['sum'].astype('int64')"
   ]
  },
  {
   "cell_type": "code",
   "execution_count": 141,
   "id": "07eeac96",
   "metadata": {},
   "outputs": [],
   "source": [
    "#df.rename({'receipt_date':'date'}, axis='columns', inplace=True)"
   ]
  },
  {
   "cell_type": "code",
   "execution_count": 58,
   "id": "2e0691c9",
   "metadata": {},
   "outputs": [],
   "source": [
    "df_merged = receipts.merge(report,\n",
    "                     how='outer',\n",
    "                     on=['date', 'tt', 'sum'],\n",
    "                     indicator=True)"
   ]
  },
  {
   "cell_type": "code",
   "execution_count": 59,
   "id": "2afeae8c",
   "metadata": {},
   "outputs": [],
   "source": [
    "df_merged.to_excel('temp.xlsx')"
   ]
  },
  {
   "cell_type": "code",
   "execution_count": 152,
   "id": "4b4754f8",
   "metadata": {},
   "outputs": [
    {
     "data": {
      "text/plain": [
       "date\n",
       "2024-01-11    728720\n",
       "2024-01-12    738970\n",
       "2024-01-13    433075\n",
       "Name: sum, dtype: int64"
      ]
     },
     "execution_count": 152,
     "metadata": {},
     "output_type": "execute_result"
    }
   ],
   "source": [
    "df.groupby('date')['sum'].sum()"
   ]
  },
  {
   "cell_type": "code",
   "execution_count": null,
   "id": "916ad27d",
   "metadata": {},
   "outputs": [],
   "source": []
  }
 ],
 "metadata": {
  "kernelspec": {
   "display_name": "Python 3 (ipykernel)",
   "language": "python",
   "name": "python3"
  },
  "language_info": {
   "codemirror_mode": {
    "name": "ipython",
    "version": 3
   },
   "file_extension": ".py",
   "mimetype": "text/x-python",
   "name": "python",
   "nbconvert_exporter": "python",
   "pygments_lexer": "ipython3",
   "version": "3.11.5"
  }
 },
 "nbformat": 4,
 "nbformat_minor": 5
}
