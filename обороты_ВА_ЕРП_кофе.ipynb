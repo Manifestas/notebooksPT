{
 "cells": [
  {
   "cell_type": "code",
   "execution_count": 22,
   "id": "be4f6b23",
   "metadata": {},
   "outputs": [],
   "source": [
    "import pandas as pd\n",
    "import numpy as np\n",
    "import re"
   ]
  },
  {
   "cell_type": "code",
   "execution_count": 23,
   "id": "e8e1827e",
   "metadata": {},
   "outputs": [],
   "source": [
    "def extract_date(s):\n",
    "    return re.search(\"([0-9]{2}.[0-9]{2}.[0-9]{4})\", s).group(0)"
   ]
  },
  {
   "cell_type": "code",
   "execution_count": 55,
   "id": "4fc5df77",
   "metadata": {},
   "outputs": [],
   "source": [
    "def remove_starting_numbers(s):\n",
    "    return re.search(\"([0-9]{1,10}: (.*))\", s).group(2)"
   ]
  },
  {
   "cell_type": "code",
   "execution_count": 4,
   "id": "0e2441da",
   "metadata": {},
   "outputs": [],
   "source": [
    "erp_raw = pd.read_excel(\"ведомостьЕРПоктябрь.xlsx\",skiprows=8, header=0, skipfooter=1)"
   ]
  },
  {
   "cell_type": "code",
   "execution_count": 5,
   "id": "a7f2cd65",
   "metadata": {},
   "outputs": [],
   "source": [
    "erp = erp_raw.drop(['Unnamed: 1', 'Unnamed: 2', 'Unnamed: 4', 'Unnamed: 5'], axis=1)"
   ]
  },
  {
   "cell_type": "code",
   "execution_count": 6,
   "id": "56228817",
   "metadata": {},
   "outputs": [],
   "source": [
    "erp.rename({'Unnamed: 0':'wh', 'Unnamed: 3':'product', 'Unnamed: 6':'doc', 'Приход':'in', 'Расход':'out'}, axis=1, inplace=True)"
   ]
  },
  {
   "cell_type": "code",
   "execution_count": 7,
   "id": "d87f5ed5",
   "metadata": {},
   "outputs": [],
   "source": [
    "erp['doc_date'] = erp['doc'].apply(extract_date)"
   ]
  },
  {
   "cell_type": "code",
   "execution_count": 8,
   "id": "1a39b24b",
   "metadata": {},
   "outputs": [],
   "source": [
    "erp.fillna(0.0, inplace=True)"
   ]
  },
  {
   "cell_type": "markdown",
   "id": "159873c4",
   "metadata": {},
   "source": [
    "**в ВА кофе:**  \n",
    "Группировка: Склад-Товар  \n",
    "*фильтры:*  \n",
    "{Категория.Склад} в списке ('Плаза- Телеком - СКЛАД (Ингредиенты)', 'СКЛАД (Ингредиенты)  Санкт-Петербург');  \n",
    "{Количество.Приход} <> 0 OR {Количество.Расход} <> 0"
   ]
  },
  {
   "cell_type": "code",
   "execution_count": 25,
   "id": "6084f5d1",
   "metadata": {},
   "outputs": [],
   "source": [
    "va_coff_raw = pd.read_excel(\"оборотыВАкофеОктябрь.xls\",skiprows=1, header=0, skipfooter=1)"
   ]
  },
  {
   "cell_type": "code",
   "execution_count": 26,
   "id": "a5241bf1",
   "metadata": {},
   "outputs": [
    {
     "data": {
      "text/html": [
       "<div>\n",
       "<style scoped>\n",
       "    .dataframe tbody tr th:only-of-type {\n",
       "        vertical-align: middle;\n",
       "    }\n",
       "\n",
       "    .dataframe tbody tr th {\n",
       "        vertical-align: top;\n",
       "    }\n",
       "\n",
       "    .dataframe thead th {\n",
       "        text-align: right;\n",
       "    }\n",
       "</style>\n",
       "<table border=\"1\" class=\"dataframe\">\n",
       "  <thead>\n",
       "    <tr style=\"text-align: right;\">\n",
       "      <th></th>\n",
       "      <th>Склад/Товар</th>\n",
       "      <th>Начальный остаток</th>\n",
       "      <th>Приход</th>\n",
       "      <th>Расход</th>\n",
       "      <th>Остаток</th>\n",
       "      <th>Начальный остаток.1</th>\n",
       "      <th>Приход.1</th>\n",
       "      <th>Расход.1</th>\n",
       "      <th>Остаток.1</th>\n",
       "    </tr>\n",
       "  </thead>\n",
       "  <tbody>\n",
       "    <tr>\n",
       "      <th>0</th>\n",
       "      <td>Плаза- Телеком - СКЛАД (Ингредиенты)</td>\n",
       "      <td>587528.0</td>\n",
       "      <td>633394.9</td>\n",
       "      <td>457828.9</td>\n",
       "      <td>763094.0</td>\n",
       "      <td>4.355314e+06</td>\n",
       "      <td>1.144578e+07</td>\n",
       "      <td>9.654421e+06</td>\n",
       "      <td>6.146673e+06</td>\n",
       "    </tr>\n",
       "    <tr>\n",
       "      <th>1</th>\n",
       "      <td>Вода родниковая Аквагор 19л (Маркируемая)</td>\n",
       "      <td>7011.0</td>\n",
       "      <td>59888.0</td>\n",
       "      <td>60401.0</td>\n",
       "      <td>6498.0</td>\n",
       "      <td>1.746558e+05</td>\n",
       "      <td>8.722845e+05</td>\n",
       "      <td>8.386363e+05</td>\n",
       "      <td>2.083040e+05</td>\n",
       "    </tr>\n",
       "    <tr>\n",
       "      <th>2</th>\n",
       "      <td>001: Выдача оператору №3 от 02.10.2023 1...</td>\n",
       "      <td>7011.0</td>\n",
       "      <td>0.0</td>\n",
       "      <td>266.0</td>\n",
       "      <td>6745.0</td>\n",
       "      <td>1.746558e+05</td>\n",
       "      <td>0.000000e+00</td>\n",
       "      <td>3.878000e+03</td>\n",
       "      <td>1.707778e+05</td>\n",
       "    </tr>\n",
       "    <tr>\n",
       "      <th>3</th>\n",
       "      <td>002: Выдача оператору №4 от 02.10.2023 1...</td>\n",
       "      <td>6745.0</td>\n",
       "      <td>0.0</td>\n",
       "      <td>285.0</td>\n",
       "      <td>6460.0</td>\n",
       "      <td>1.707778e+05</td>\n",
       "      <td>0.000000e+00</td>\n",
       "      <td>4.155000e+03</td>\n",
       "      <td>1.666228e+05</td>\n",
       "    </tr>\n",
       "    <tr>\n",
       "      <th>4</th>\n",
       "      <td>003: Выдача оператору №6 от 02.10.2023 1...</td>\n",
       "      <td>6460.0</td>\n",
       "      <td>0.0</td>\n",
       "      <td>152.0</td>\n",
       "      <td>6308.0</td>\n",
       "      <td>1.666228e+05</td>\n",
       "      <td>0.000000e+00</td>\n",
       "      <td>2.216000e+03</td>\n",
       "      <td>1.644068e+05</td>\n",
       "    </tr>\n",
       "  </tbody>\n",
       "</table>\n",
       "</div>"
      ],
      "text/plain": [
       "                                         Склад/Товар  Начальный остаток  \\\n",
       "0               Плаза- Телеком - СКЛАД (Ингредиенты)           587528.0   \n",
       "1          Вода родниковая Аквагор 19л (Маркируемая)             7011.0   \n",
       "2        001: Выдача оператору №3 от 02.10.2023 1...             7011.0   \n",
       "3        002: Выдача оператору №4 от 02.10.2023 1...             6745.0   \n",
       "4        003: Выдача оператору №6 от 02.10.2023 1...             6460.0   \n",
       "\n",
       "     Приход    Расход   Остаток  Начальный остаток.1      Приход.1  \\\n",
       "0  633394.9  457828.9  763094.0         4.355314e+06  1.144578e+07   \n",
       "1   59888.0   60401.0    6498.0         1.746558e+05  8.722845e+05   \n",
       "2       0.0     266.0    6745.0         1.746558e+05  0.000000e+00   \n",
       "3       0.0     285.0    6460.0         1.707778e+05  0.000000e+00   \n",
       "4       0.0     152.0    6308.0         1.666228e+05  0.000000e+00   \n",
       "\n",
       "       Расход.1     Остаток.1  \n",
       "0  9.654421e+06  6.146673e+06  \n",
       "1  8.386363e+05  2.083040e+05  \n",
       "2  3.878000e+03  1.707778e+05  \n",
       "3  4.155000e+03  1.666228e+05  \n",
       "4  2.216000e+03  1.644068e+05  "
      ]
     },
     "execution_count": 26,
     "metadata": {},
     "output_type": "execute_result"
    }
   ],
   "source": [
    "va_coff_raw.head()"
   ]
  },
  {
   "cell_type": "code",
   "execution_count": 27,
   "id": "41aeec16",
   "metadata": {},
   "outputs": [],
   "source": [
    "va_coff = va_coff_raw.drop(['Начальный остаток', 'Остаток',\n",
    "       'Начальный остаток.1', 'Приход.1', 'Расход.1', 'Остаток.1'], axis='columns')\n",
    "va_coff.rename({'Склад/Товар':'doc', 'Приход':'in', 'Расход':'out'}, axis=1, inplace=True)"
   ]
  },
  {
   "cell_type": "code",
   "execution_count": 28,
   "id": "775e32ad",
   "metadata": {},
   "outputs": [],
   "source": [
    "# новая колонка с кол-вом начальных (группировочных) пробелов\n",
    "va_coff['ident_number'] = va_coff['doc'].str.len() - va_coff['doc'].str.lstrip().str.len()"
   ]
  },
  {
   "cell_type": "code",
   "execution_count": 29,
   "id": "ee103edf",
   "metadata": {},
   "outputs": [],
   "source": [
    "# по кол-ву пробелов определяем, к какой группировке относится значение\n",
    "va_coff['wh'] = np.where(va_coff['ident_number'] == 0, va_coff['doc'], np.NaN)\n",
    "va_coff['product'] = np.where(va_coff['ident_number'] == 3, va_coff['doc'], np.NaN)"
   ]
  },
  {
   "cell_type": "code",
   "execution_count": 30,
   "id": "94f05b81",
   "metadata": {},
   "outputs": [],
   "source": [
    "# заполняем пропуски вышестоящим значением\n",
    "va_coff['wh'].ffill(inplace=True)\n",
    "va_coff['product'].ffill(inplace=True)"
   ]
  },
  {
   "cell_type": "code",
   "execution_count": 31,
   "id": "523d6810",
   "metadata": {},
   "outputs": [],
   "source": [
    "# убираем те строки, по которым была группировка, оставляя только с регистратором\n",
    "# т.к. данные о группировке уже есть в колонках\n",
    "va_coff = va_coff.drop(va_coff[va_coff.ident_number != 6].index).reset_index(drop=True)\n",
    "va_coff = va_coff.drop('ident_number', axis='columns')"
   ]
  },
  {
   "cell_type": "code",
   "execution_count": 33,
   "id": "c1c57aea",
   "metadata": {},
   "outputs": [],
   "source": [
    "va_coff['doc_date'] = va_coff['doc'].apply(extract_date)"
   ]
  },
  {
   "cell_type": "code",
   "execution_count": 34,
   "id": "3d09b1ab",
   "metadata": {},
   "outputs": [],
   "source": [
    "va_coff['doc'] = va_coff['doc'].str.lstrip()\n",
    "va_coff['product'] = va_coff['product'].str.lstrip()"
   ]
  },
  {
   "cell_type": "code",
   "execution_count": 56,
   "id": "91cfad52",
   "metadata": {},
   "outputs": [],
   "source": [
    "# убрать цифры перед названием регистратора (05: Выдача оператору...)\n",
    "va_coff['doc'] = va_coff['doc'].apply(remove_starting_numbers)"
   ]
  },
  {
   "cell_type": "code",
   "execution_count": 20,
   "id": "0b54c721",
   "metadata": {},
   "outputs": [
    {
     "data": {
      "text/plain": [
       "array(['Товары для снэков (МСК Автомоторная 5Б)',\n",
       "       'Товары для снэков (СПБ Фаянсовая 22)',\n",
       "       'Ингридиенты Кофе (СПБ Фаянсовая 22)',\n",
       "       'Ингридиенты Кофе (МСК Автомоторная 5Б)'], dtype=object)"
      ]
     },
     "execution_count": 20,
     "metadata": {},
     "output_type": "execute_result"
    }
   ],
   "source": [
    "erp.wh.unique()"
   ]
  },
  {
   "cell_type": "code",
   "execution_count": 21,
   "id": "565f3af4",
   "metadata": {},
   "outputs": [
    {
     "data": {
      "text/plain": [
       "array(['Плаза- Телеком - СКЛАД (Ингредиенты)',\n",
       "       'СКЛАД (Ингредиенты)  Санкт-Петербург'], dtype=object)"
      ]
     },
     "execution_count": 21,
     "metadata": {},
     "output_type": "execute_result"
    }
   ],
   "source": [
    "va_coff.wh.unique()"
   ]
  },
  {
   "cell_type": "code",
   "execution_count": 22,
   "id": "00a366bc",
   "metadata": {},
   "outputs": [],
   "source": [
    "# key-value pair to remap.\n",
    "wh_dict = {'Плаза- Телеком - СКЛАД (Ингредиенты)' : 'Ингридиенты Кофе (МСК Автомоторная 5Б)',\n",
    "           'СКЛАД (Ингредиенты)  Санкт-Петербург' : 'Ингридиенты Кофе (СПБ Фаянсовая 22)'}\n",
    "va_coff = va_coff.replace({'wh': wh_dict})"
   ]
  },
  {
   "cell_type": "code",
   "execution_count": 23,
   "id": "8876ab80",
   "metadata": {},
   "outputs": [
    {
     "data": {
      "text/plain": [
       "array(['Ингридиенты Кофе (МСК Автомоторная 5Б)',\n",
       "       'Ингридиенты Кофе (СПБ Фаянсовая 22)'], dtype=object)"
      ]
     },
     "execution_count": 23,
     "metadata": {},
     "output_type": "execute_result"
    }
   ],
   "source": [
    "va_coff.wh.unique()"
   ]
  },
  {
   "cell_type": "code",
   "execution_count": 24,
   "id": "a354764b",
   "metadata": {},
   "outputs": [],
   "source": [
    "# выбрать только склады кофе\n",
    "erp_coff = erp[(erp.wh == 'Ингридиенты Кофе (МСК Автомоторная 5Б)') | \n",
    "              (erp.wh == 'Ингридиенты Кофе (СПБ Фаянсовая 22)')]"
   ]
  },
  {
   "cell_type": "code",
   "execution_count": 25,
   "id": "fa066bbe",
   "metadata": {},
   "outputs": [
    {
     "data": {
      "text/html": [
       "<div>\n",
       "<style scoped>\n",
       "    .dataframe tbody tr th:only-of-type {\n",
       "        vertical-align: middle;\n",
       "    }\n",
       "\n",
       "    .dataframe tbody tr th {\n",
       "        vertical-align: top;\n",
       "    }\n",
       "\n",
       "    .dataframe thead th {\n",
       "        text-align: right;\n",
       "    }\n",
       "</style>\n",
       "<table border=\"1\" class=\"dataframe\">\n",
       "  <thead>\n",
       "    <tr style=\"text-align: right;\">\n",
       "      <th></th>\n",
       "      <th>wh</th>\n",
       "      <th>product</th>\n",
       "      <th>doc</th>\n",
       "      <th>in</th>\n",
       "      <th>out</th>\n",
       "      <th>doc_date</th>\n",
       "    </tr>\n",
       "  </thead>\n",
       "  <tbody>\n",
       "    <tr>\n",
       "      <th>3340</th>\n",
       "      <td>Ингридиенты Кофе (СПБ Фаянсовая 22)</td>\n",
       "      <td>Стакан картонный 330 мл «ВкусВилл»</td>\n",
       "      <td>Перемещение товаров PTEP-000130 от 02.10.2023 ...</td>\n",
       "      <td>0.0</td>\n",
       "      <td>1000.0</td>\n",
       "      <td>02.10.2023</td>\n",
       "    </tr>\n",
       "    <tr>\n",
       "      <th>3341</th>\n",
       "      <td>Ингридиенты Кофе (СПБ Фаянсовая 22)</td>\n",
       "      <td>Кофе ВВ</td>\n",
       "      <td>Перемещение товаров PTEP-000130 от 02.10.2023 ...</td>\n",
       "      <td>0.0</td>\n",
       "      <td>4.0</td>\n",
       "      <td>02.10.2023</td>\n",
       "    </tr>\n",
       "    <tr>\n",
       "      <th>3342</th>\n",
       "      <td>Ингридиенты Кофе (СПБ Фаянсовая 22)</td>\n",
       "      <td>Вода родниковая Аквагор 19л (Маркируемая)</td>\n",
       "      <td>Перемещение товаров PTEP-000130 от 02.10.2023 ...</td>\n",
       "      <td>0.0</td>\n",
       "      <td>209.0</td>\n",
       "      <td>02.10.2023</td>\n",
       "    </tr>\n",
       "    <tr>\n",
       "      <th>3473</th>\n",
       "      <td>Ингридиенты Кофе (СПБ Фаянсовая 22)</td>\n",
       "      <td>Вода родниковая Аквагор 19л (Маркируемая)</td>\n",
       "      <td>Приходный ордер на товары EP-00001334 от 02.10...</td>\n",
       "      <td>50.0</td>\n",
       "      <td>0.0</td>\n",
       "      <td>02.10.2023</td>\n",
       "    </tr>\n",
       "    <tr>\n",
       "      <th>3530</th>\n",
       "      <td>Ингридиенты Кофе (МСК Автомоторная 5Б)</td>\n",
       "      <td>Ловушка от насекомых, шт</td>\n",
       "      <td>Ордер на отражение недостач товаров EP-0000001...</td>\n",
       "      <td>0.0</td>\n",
       "      <td>18.0</td>\n",
       "      <td>02.10.2023</td>\n",
       "    </tr>\n",
       "  </tbody>\n",
       "</table>\n",
       "</div>"
      ],
      "text/plain": [
       "                                          wh  \\\n",
       "3340     Ингридиенты Кофе (СПБ Фаянсовая 22)   \n",
       "3341     Ингридиенты Кофе (СПБ Фаянсовая 22)   \n",
       "3342     Ингридиенты Кофе (СПБ Фаянсовая 22)   \n",
       "3473     Ингридиенты Кофе (СПБ Фаянсовая 22)   \n",
       "3530  Ингридиенты Кофе (МСК Автомоторная 5Б)   \n",
       "\n",
       "                                        product  \\\n",
       "3340         Стакан картонный 330 мл «ВкусВилл»   \n",
       "3341                                    Кофе ВВ   \n",
       "3342  Вода родниковая Аквагор 19л (Маркируемая)   \n",
       "3473  Вода родниковая Аквагор 19л (Маркируемая)   \n",
       "3530                   Ловушка от насекомых, шт   \n",
       "\n",
       "                                                    doc    in     out  \\\n",
       "3340  Перемещение товаров PTEP-000130 от 02.10.2023 ...   0.0  1000.0   \n",
       "3341  Перемещение товаров PTEP-000130 от 02.10.2023 ...   0.0     4.0   \n",
       "3342  Перемещение товаров PTEP-000130 от 02.10.2023 ...   0.0   209.0   \n",
       "3473  Приходный ордер на товары EP-00001334 от 02.10...  50.0     0.0   \n",
       "3530  Ордер на отражение недостач товаров EP-0000001...   0.0    18.0   \n",
       "\n",
       "        doc_date  \n",
       "3340  02.10.2023  \n",
       "3341  02.10.2023  \n",
       "3342  02.10.2023  \n",
       "3473  02.10.2023  \n",
       "3530  02.10.2023  "
      ]
     },
     "execution_count": 25,
     "metadata": {},
     "output_type": "execute_result"
    }
   ],
   "source": [
    "erp_coff.head()"
   ]
  },
  {
   "cell_type": "code",
   "execution_count": 35,
   "id": "834400ad",
   "metadata": {},
   "outputs": [],
   "source": [
    "df_merged = pd.merge(va_coff, erp_coff, how='outer', on=['wh', 'product', 'in', 'out', 'doc_date'],\n",
    "                     suffixes=('_va', '_erp'), indicator=True)"
   ]
  },
  {
   "cell_type": "code",
   "execution_count": 40,
   "id": "4f8411f8",
   "metadata": {},
   "outputs": [],
   "source": [
    "df_merged.sort_values(['wh', 'doc_date', 'doc_va', 'product']).to_excel('sort_coff.xlsx', index=False)"
   ]
  },
  {
   "cell_type": "code",
   "execution_count": 36,
   "id": "e8c5e405",
   "metadata": {},
   "outputs": [],
   "source": [
    "df_merged.to_excel('merge_coff.xlsx', index=False)"
   ]
  },
  {
   "cell_type": "code",
   "execution_count": null,
   "id": "aea1a467",
   "metadata": {},
   "outputs": [],
   "source": []
  },
  {
   "cell_type": "code",
   "execution_count": 54,
   "id": "70555226",
   "metadata": {},
   "outputs": [
    {
     "data": {
      "text/plain": [
       "'Выдача оператору №28 от 04.10.2023 17:04:05'"
      ]
     },
     "execution_count": 54,
     "metadata": {},
     "output_type": "execute_result"
    }
   ],
   "source": [
    "re.search(\"([0-9]{1,10}: (.*))\", '021: Выдача оператору №28 от 04.10.2023 17:04:05').group(2)"
   ]
  },
  {
   "cell_type": "code",
   "execution_count": null,
   "id": "a0815a4e",
   "metadata": {},
   "outputs": [],
   "source": []
  }
 ],
 "metadata": {
  "kernelspec": {
   "display_name": "Python 3 (ipykernel)",
   "language": "python",
   "name": "python3"
  },
  "language_info": {
   "codemirror_mode": {
    "name": "ipython",
    "version": 3
   },
   "file_extension": ".py",
   "mimetype": "text/x-python",
   "name": "python",
   "nbconvert_exporter": "python",
   "pygments_lexer": "ipython3",
   "version": "3.11.5"
  }
 },
 "nbformat": 4,
 "nbformat_minor": 5
}
